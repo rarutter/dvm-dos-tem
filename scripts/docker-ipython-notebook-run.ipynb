{
 "cells": [
  {
   "cell_type": "markdown",
   "id": "2bfccd98",
   "metadata": {},
   "source": [
    "\n",
    "# Intro\n",
    "In this tutorial we will execute a `dvmdostem` simulation from a Jupyter Notebook (IPython Notebook). The tutorial assumes:\n",
    "* You have built all the `dvmdostem` Docker images (see the comments and directions in the [Dockerfile](https://github.com/ua-snap/dvm-dos-tem/blob/master/Dockerfile) and [Dockerfile-mapping-support](https://github.com/ua-snap/dvm-dos-tem/blob/master/Dockerfile-mapping-support). \n",
    "* You can launch the stack using `docker compose` (see directions and examples in the [docker-compose.yml](https://github.com/ua-snap/dvm-dos-tem/blob/master/docker-compose.yml) file).\n",
    "* You have the volumes setup as specified in the project's `docker-compose.yml` file and you can access the files both from your host computer and from within the docker container(s).\n",
    "* You have installed the Jupyter package and can run jupyter notebooks, specifically an `IPython` notebook.\n",
    "\n",
    "> Note about packages and environments: the demo here shows a mixture of running dvm-dos-tem's supporting Python scripts \"natively\" (i.e. on your host computer, not in a Docker container) and running dvm-dos-tem's supporting Python scripts inside the Docker container. For the most consistent Python environment, it is best to run everyting through (inside) the Docker containers. However sometimes the extra typing required is onerous (`docker compose exec dvmdostem-run ...`), and there is a little extra overhead involved in interacting with the containers. So if you have the appropriate packages installed on your host machine you can run some of the scripts on your host as it shown here. This takes a little care to keep the paths straight for each command, i.e. whether you are referncing the path inside the guest/container, or on your host machine.\n",
    "\n",
    "> Note that while `dmvdostem`'s supporting scripts are largely written in Python, for the most part there is not an exposed Python API. Instead the scripts are generally provided with a command line interface. So much of this tutorial, while running inside an IPython notebook, could easily be run directly from your shell.\n",
    "\n",
    "For convenience we will add the `dvm-dos-tem` repo directory to our `PATH` on the host **before** launching the notebook (this should already be done for you inside the Docker container):\n",
    "\n",
    "```bash\n",
    "$ cd ~/path/to/your/dvm-dos-tem\n",
    "$ export PATH=$(PWD)/scripts:$(PWD):$PATH\n",
    "```\n",
    "\n",
    "Now start the notebook server:\n",
    "\n",
    "```bash\n",
    "$ jupyter notebook\n",
    "```\n",
    "\n",
    "and open this notebook in a browser tab. \n",
    "\n",
    "**Note that when you open the notebook, the current working directory of the notebook will be the dvm-dos-tem scripts directory. In order for the docker commands to work correctly, you must change your working directory for this notebook to the main dvm-dos-tem repo directory, which contains the Dockerfile(s).** You can do this a variety of ways, but the easiest is the builtin IPython magic, `%cd </path/to/your/dvm-dos-tem>`. There is also the useful `%pwd` function to see where you are.\n",
    "\n"
   ]
  },
  {
   "cell_type": "markdown",
   "id": "83210380",
   "metadata": {},
   "source": [
    "# Setup\n",
    "\n",
    "As noted in [this wiki page](https://github.com/ua-snap/dvm-dos-tem/wiki/How-To:-Run-dvmdostem-and-plot-output-via-Docker) there are 6 general steps for any modeling task: \n",
    "\n",
    "1. Decide where on your computer you want to store your model run(s).\n",
    "2. Decide what spatial (geographic) area you want to run.\n",
    "3. Decide what variables you want to have output\n",
    "4. Decide on all other run settings/parameters:\n",
    " * Which stages to run and for how many years.\n",
    " * Is the community type (CMT) fixed or driven by input vegetation.nc map?\n",
    " * For which stages should the output files be generated and saved?\n",
    " * Calibration settings if necessary (`--cal-mode`).\n",
    " * Any other command line options or environment settings.\n",
    "5. Launch the run\n",
    "6. Make plots or other analysis.\n",
    "\n",
    "## Setup data location and geographic location.\n",
    "\n",
    "Start by setting up a directory for this example run. There are several ways you could do this. For this example we will run the script inside the docker container. Hence the paths will be from the point of view of inside the docker container."
   ]
  },
  {
   "cell_type": "code",
   "execution_count": 8,
   "id": "b6cea339",
   "metadata": {},
   "outputs": [],
   "source": [
    "# Cleanup:\n",
    "!docker compose exec dvmdostem-run rm -r /data/workflows/testcase_0001"
   ]
  },
  {
   "cell_type": "code",
   "execution_count": 9,
   "id": "931f5b61",
   "metadata": {},
   "outputs": [
    {
     "name": "stdout",
     "output_type": "stream",
     "text": [
      "Namespace(copy_inputs=False, input_data_path='/data/input-catalog/cru-ts40_ar5_rcp85_ncar-ccsm4_TOOLIK_FIELD_STATION_10x10/', new_directory='/data/workflows/testcase_0001', no_cal_targets=False)\r",
      "\r\n"
     ]
    }
   ],
   "source": [
    "!docker compose exec dvmdostem-run scripts/setup_working_directory.py \\\n",
    "--input-data-path /data/input-catalog/cru-ts40_ar5_rcp85_ncar-ccsm4_TOOLIK_FIELD_STATION_10x10/ \\\n",
    "/data/workflows/testcase_0001"
   ]
  },
  {
   "cell_type": "markdown",
   "id": "6753d7ed",
   "metadata": {},
   "source": [
    "Now note that if you investigate **from your host** (i.e. not inside the docker container) you can see the new directory you just created (in my case, I keep the workflows up two directories from my dvm-dos-tem repo; your paths might be different):"
   ]
  },
  {
   "cell_type": "code",
   "execution_count": 10,
   "id": "5fa86b67",
   "metadata": {},
   "outputs": [
    {
     "name": "stdout",
     "output_type": "stream",
     "text": [
      "\u001b[1m\u001b[36mcalibration\u001b[m\u001b[m \u001b[1m\u001b[36mconfig\u001b[m\u001b[m      \u001b[1m\u001b[36moutput\u001b[m\u001b[m      \u001b[1m\u001b[36mparameters\u001b[m\u001b[m  run-mask.nc\r\n"
     ]
    }
   ],
   "source": [
    "!ls ../dvmdostem-workflows/testcase_0001/"
   ]
  },
  {
   "cell_type": "markdown",
   "id": "d9191fb7",
   "metadata": {},
   "source": [
    "Notice that you can see the same folders and files by running `ls` from within the docker container. Notice the paths are different because you are referencing the locations **inside** the container as oppsed to from your host computer:"
   ]
  },
  {
   "cell_type": "code",
   "execution_count": 11,
   "id": "bce37725",
   "metadata": {},
   "outputs": [
    {
     "name": "stdout",
     "output_type": "stream",
     "text": [
      "calibration  config  output  parameters  run-mask.nc\r",
      "\r\n"
     ]
    }
   ],
   "source": [
    "!docker compose exec dvmdostem-run ls /data/workflows/testcase_0001"
   ]
  },
  {
   "cell_type": "markdown",
   "id": "b7cf5405",
   "metadata": {},
   "source": [
    "## Adjust spatial mask\n",
    "Now adjust your run mask so as to only run one pixel:"
   ]
  },
  {
   "cell_type": "code",
   "execution_count": 12,
   "id": "fdac5b0c",
   "metadata": {},
   "outputs": [
    {
     "name": "stdout",
     "output_type": "stream",
     "text": [
      "========== BEFORE ==================================\r",
      "\r\n",
      "** Keep in mind that in this display the origin is the upper \r",
      "\r\n",
      "** left of the grid! This is opposite of the way that ncdump \r",
      "\r\n",
      "** and ncview display data (origin is lower left)!!\r",
      "\r\n",
      "\r",
      "\r\n",
      "'/data/workflows/testcase_0001/run-mask.nc'\r",
      "\r\n",
      "<class 'netCDF4._netCDF4.Variable'>\r",
      "\r\n",
      "int64 run(Y, X)\r",
      "\r\n",
      "    grid_mapping: albers_conical_equal_area\r",
      "\r\n",
      "unlimited dimensions: \r",
      "\r\n",
      "current shape = (10, 10)\r",
      "\r\n",
      "filling on, default _FillValue of -9223372036854775806 used\r",
      "\r\n",
      "[[1 0 0 0 0 0 0 0 0 0]\r",
      "\r\n",
      " [0 1 0 0 0 0 0 0 0 0]\r",
      "\r\n",
      " [0 0 0 0 0 0 0 0 0 0]\r",
      "\r\n",
      " [0 0 0 0 0 0 0 0 0 0]\r",
      "\r\n",
      " [0 0 0 0 0 0 0 0 0 0]\r",
      "\r\n",
      " [0 0 0 0 0 0 0 0 0 0]\r",
      "\r\n",
      " [0 0 0 0 0 0 0 0 0 0]\r",
      "\r\n",
      " [0 0 0 0 0 0 0 0 0 0]\r",
      "\r\n",
      " [0 0 0 0 0 0 0 0 0 0]\r",
      "\r\n",
      " [0 0 0 0 0 0 0 0 0 0]]\r",
      "\r\n",
      "\r",
      "\r\n",
      "Setting all pixels in runmask to '0' (OFF).\r",
      "\r\n",
      "Turning pixel(y,x) (0,0) to '1', (ON).\r",
      "\r\n",
      "========== AFTER ==================================\r",
      "\r\n",
      "** Keep in mind that in this display the origin is the upper \r",
      "\r\n",
      "** left of the grid! This is opposite of the way that ncdump \r",
      "\r\n",
      "** and ncview display data (origin is lower left)!!\r",
      "\r\n",
      "\r",
      "\r\n",
      "'/data/workflows/testcase_0001/run-mask.nc'\r",
      "\r\n",
      "<class 'netCDF4._netCDF4.Variable'>\r",
      "\r\n",
      "int64 run(Y, X)\r",
      "\r\n",
      "    grid_mapping: albers_conical_equal_area\r",
      "\r\n",
      "unlimited dimensions: \r",
      "\r\n",
      "current shape = (10, 10)\r",
      "\r\n",
      "filling on, default _FillValue of -9223372036854775806 used\r",
      "\r\n",
      "[[1 0 0 0 0 0 0 0 0 0]\r",
      "\r\n",
      " [0 0 0 0 0 0 0 0 0 0]\r",
      "\r\n",
      " [0 0 0 0 0 0 0 0 0 0]\r",
      "\r\n",
      " [0 0 0 0 0 0 0 0 0 0]\r",
      "\r\n",
      " [0 0 0 0 0 0 0 0 0 0]\r",
      "\r\n",
      " [0 0 0 0 0 0 0 0 0 0]\r",
      "\r\n",
      " [0 0 0 0 0 0 0 0 0 0]\r",
      "\r\n",
      " [0 0 0 0 0 0 0 0 0 0]\r",
      "\r\n",
      " [0 0 0 0 0 0 0 0 0 0]\r",
      "\r\n",
      " [0 0 0 0 0 0 0 0 0 0]]\r",
      "\r\n",
      "\r",
      "\r\n"
     ]
    }
   ],
   "source": [
    "!docker compose exec dvmdostem-run runmask-util.py --reset \\\n",
    "--yx 0 0 \\\n",
    "--show \\\n",
    "/data/workflows/testcase_0001/run-mask.nc"
   ]
  },
  {
   "cell_type": "markdown",
   "id": "db4a319e",
   "metadata": {},
   "source": [
    "## Choose output variables"
   ]
  },
  {
   "cell_type": "markdown",
   "id": "df22741b",
   "metadata": {},
   "source": [
    "OK, now its time to turn on some outputs. In this case, lets keep it simple and just turn on monthly GPP for PFTs. The output from this command needs a wider display for easier reading. First check on what is already on:"
   ]
  },
  {
   "cell_type": "code",
   "execution_count": 13,
   "id": "3015142b",
   "metadata": {},
   "outputs": [
    {
     "name": "stdout",
     "output_type": "stream",
     "text": [
      "                Name                Units       Yearly      Monthly        Daily          PFT Compartments       Layers    Data Type     Description\r",
      "\r\n",
      "                 GPP            g/m2/time            y                   invalid                                invalid       double     GPP\r",
      "\r\n"
     ]
    }
   ],
   "source": [
    "!docker compose exec dvmdostem-run outspec_utils.py -s /data/workflows/testcase_0001/config/output_spec.csv"
   ]
  },
  {
   "cell_type": "markdown",
   "id": "b0d12d1a",
   "metadata": {},
   "source": [
    "This is super annoying because it needs a wider screen to display this table nicely. But we can use `pandas` to display nicely in this notebook."
   ]
  },
  {
   "cell_type": "code",
   "execution_count": 14,
   "id": "d42ba37e",
   "metadata": {},
   "outputs": [
    {
     "name": "stderr",
     "output_type": "stream",
     "text": [
      "/Users/tobeycarman/.pyenv/versions/3.8.2/envs/py38-ddt2/lib/python3.8/site-packages/pandas/compat/__init__.py:120: UserWarning: Could not import the lzma module. Your installed Python is incomplete. Attempting to use lzma compression will result in a RuntimeError.\n",
      "  warnings.warn(msg)\n"
     ]
    },
    {
     "data": {
      "text/html": [
       "<div>\n",
       "<style scoped>\n",
       "    .dataframe tbody tr th:only-of-type {\n",
       "        vertical-align: middle;\n",
       "    }\n",
       "\n",
       "    .dataframe tbody tr th {\n",
       "        vertical-align: top;\n",
       "    }\n",
       "\n",
       "    .dataframe thead th {\n",
       "        text-align: right;\n",
       "    }\n",
       "</style>\n",
       "<table border=\"1\" class=\"dataframe\">\n",
       "  <thead>\n",
       "    <tr style=\"text-align: right;\">\n",
       "      <th></th>\n",
       "      <th>Name</th>\n",
       "      <th>Description</th>\n",
       "      <th>Units</th>\n",
       "      <th>Yearly</th>\n",
       "      <th>Monthly</th>\n",
       "      <th>Daily</th>\n",
       "      <th>PFT</th>\n",
       "      <th>Compartments</th>\n",
       "      <th>Layers</th>\n",
       "      <th>Data Type</th>\n",
       "      <th>Placeholder</th>\n",
       "    </tr>\n",
       "  </thead>\n",
       "  <tbody>\n",
       "    <tr>\n",
       "      <th>0</th>\n",
       "      <td>ALD</td>\n",
       "      <td>Soil active layer depth</td>\n",
       "      <td>m</td>\n",
       "      <td>NaN</td>\n",
       "      <td>invalid</td>\n",
       "      <td>invalid</td>\n",
       "      <td>invalid</td>\n",
       "      <td>invalid</td>\n",
       "      <td>invalid</td>\n",
       "      <td>double</td>\n",
       "      <td>NaN</td>\n",
       "    </tr>\n",
       "    <tr>\n",
       "      <th>1</th>\n",
       "      <td>AVLN</td>\n",
       "      <td>Total soil available N</td>\n",
       "      <td>g/m2</td>\n",
       "      <td>NaN</td>\n",
       "      <td>NaN</td>\n",
       "      <td>invalid</td>\n",
       "      <td>invalid</td>\n",
       "      <td>invalid</td>\n",
       "      <td>NaN</td>\n",
       "      <td>double</td>\n",
       "      <td>NaN</td>\n",
       "    </tr>\n",
       "    <tr>\n",
       "      <th>2</th>\n",
       "      <td>BURNAIR2SOIN</td>\n",
       "      <td>Nitrogen deposit from fire emission</td>\n",
       "      <td>g/m2/time</td>\n",
       "      <td>NaN</td>\n",
       "      <td>NaN</td>\n",
       "      <td>invalid</td>\n",
       "      <td>invalid</td>\n",
       "      <td>invalid</td>\n",
       "      <td>invalid</td>\n",
       "      <td>double</td>\n",
       "      <td>NaN</td>\n",
       "    </tr>\n",
       "    <tr>\n",
       "      <th>3</th>\n",
       "      <td>BURNSOIC</td>\n",
       "      <td>Burned soil C</td>\n",
       "      <td>g/m2/time</td>\n",
       "      <td>NaN</td>\n",
       "      <td>NaN</td>\n",
       "      <td>invalid</td>\n",
       "      <td>invalid</td>\n",
       "      <td>invalid</td>\n",
       "      <td>invalid</td>\n",
       "      <td>double</td>\n",
       "      <td>NaN</td>\n",
       "    </tr>\n",
       "    <tr>\n",
       "      <th>4</th>\n",
       "      <td>BURNSOILN</td>\n",
       "      <td>Burned soil N</td>\n",
       "      <td>g/m2/time</td>\n",
       "      <td>NaN</td>\n",
       "      <td>NaN</td>\n",
       "      <td>invalid</td>\n",
       "      <td>invalid</td>\n",
       "      <td>invalid</td>\n",
       "      <td>invalid</td>\n",
       "      <td>double</td>\n",
       "      <td>NaN</td>\n",
       "    </tr>\n",
       "    <tr>\n",
       "      <th>5</th>\n",
       "      <td>BURNTHICK</td>\n",
       "      <td>Ground burn thickness</td>\n",
       "      <td>m</td>\n",
       "      <td>NaN</td>\n",
       "      <td>NaN</td>\n",
       "      <td>invalid</td>\n",
       "      <td>invalid</td>\n",
       "      <td>invalid</td>\n",
       "      <td>invalid</td>\n",
       "      <td>double</td>\n",
       "      <td>NaN</td>\n",
       "    </tr>\n",
       "    <tr>\n",
       "      <th>6</th>\n",
       "      <td>BURNVEG2AIRC</td>\n",
       "      <td>Burned vegetation C to atmosphere</td>\n",
       "      <td>g/m2/time</td>\n",
       "      <td>NaN</td>\n",
       "      <td>NaN</td>\n",
       "      <td>invalid</td>\n",
       "      <td>invalid</td>\n",
       "      <td>invalid</td>\n",
       "      <td>invalid</td>\n",
       "      <td>double</td>\n",
       "      <td>NaN</td>\n",
       "    </tr>\n",
       "    <tr>\n",
       "      <th>7</th>\n",
       "      <td>BURNVEG2AIRN</td>\n",
       "      <td>Burned vegetation N to atmosphere</td>\n",
       "      <td>g/m2/time</td>\n",
       "      <td>NaN</td>\n",
       "      <td>NaN</td>\n",
       "      <td>invalid</td>\n",
       "      <td>invalid</td>\n",
       "      <td>invalid</td>\n",
       "      <td>invalid</td>\n",
       "      <td>double</td>\n",
       "      <td>NaN</td>\n",
       "    </tr>\n",
       "    <tr>\n",
       "      <th>8</th>\n",
       "      <td>BURNVEG2DEADC</td>\n",
       "      <td>Burned vegetation C to standing dead C</td>\n",
       "      <td>g/m2/time</td>\n",
       "      <td>NaN</td>\n",
       "      <td>NaN</td>\n",
       "      <td>invalid</td>\n",
       "      <td>invalid</td>\n",
       "      <td>invalid</td>\n",
       "      <td>invalid</td>\n",
       "      <td>double</td>\n",
       "      <td>NaN</td>\n",
       "    </tr>\n",
       "    <tr>\n",
       "      <th>9</th>\n",
       "      <td>BURNVEG2DEADN</td>\n",
       "      <td>Burned vegetation N to standing dead N</td>\n",
       "      <td>g/m2/time</td>\n",
       "      <td>NaN</td>\n",
       "      <td>NaN</td>\n",
       "      <td>invalid</td>\n",
       "      <td>invalid</td>\n",
       "      <td>invalid</td>\n",
       "      <td>invalid</td>\n",
       "      <td>double</td>\n",
       "      <td>NaN</td>\n",
       "    </tr>\n",
       "    <tr>\n",
       "      <th>10</th>\n",
       "      <td>BURNVEG2SOIABVC</td>\n",
       "      <td>Burned vegetation C to soil above</td>\n",
       "      <td>g/m2/time</td>\n",
       "      <td>NaN</td>\n",
       "      <td>NaN</td>\n",
       "      <td>invalid</td>\n",
       "      <td>invalid</td>\n",
       "      <td>invalid</td>\n",
       "      <td>invalid</td>\n",
       "      <td>double</td>\n",
       "      <td>NaN</td>\n",
       "    </tr>\n",
       "    <tr>\n",
       "      <th>11</th>\n",
       "      <td>BURNVEG2SOIABVN</td>\n",
       "      <td>Burned vegetation N to soil above</td>\n",
       "      <td>g/m2/time</td>\n",
       "      <td>NaN</td>\n",
       "      <td>NaN</td>\n",
       "      <td>invalid</td>\n",
       "      <td>invalid</td>\n",
       "      <td>invalid</td>\n",
       "      <td>invalid</td>\n",
       "      <td>double</td>\n",
       "      <td>NaN</td>\n",
       "    </tr>\n",
       "    <tr>\n",
       "      <th>12</th>\n",
       "      <td>BURNVEG2SOIBLWC</td>\n",
       "      <td>Burned vegetation C to soil below</td>\n",
       "      <td>g/m2/time</td>\n",
       "      <td>NaN</td>\n",
       "      <td>NaN</td>\n",
       "      <td>invalid</td>\n",
       "      <td>invalid</td>\n",
       "      <td>invalid</td>\n",
       "      <td>invalid</td>\n",
       "      <td>double</td>\n",
       "      <td>NaN</td>\n",
       "    </tr>\n",
       "    <tr>\n",
       "      <th>13</th>\n",
       "      <td>BURNVEG2SOIBLWN</td>\n",
       "      <td>Burned vegetation N to soil below</td>\n",
       "      <td>g/m2/time</td>\n",
       "      <td>NaN</td>\n",
       "      <td>NaN</td>\n",
       "      <td>invalid</td>\n",
       "      <td>invalid</td>\n",
       "      <td>invalid</td>\n",
       "      <td>invalid</td>\n",
       "      <td>double</td>\n",
       "      <td>NaN</td>\n",
       "    </tr>\n",
       "    <tr>\n",
       "      <th>14</th>\n",
       "      <td>CMTNUM</td>\n",
       "      <td>Community Type Number</td>\n",
       "      <td>m</td>\n",
       "      <td>NaN</td>\n",
       "      <td>invalid</td>\n",
       "      <td>invalid</td>\n",
       "      <td>invalid</td>\n",
       "      <td>invalid</td>\n",
       "      <td>invalid</td>\n",
       "      <td>int</td>\n",
       "      <td>NaN</td>\n",
       "    </tr>\n",
       "  </tbody>\n",
       "</table>\n",
       "</div>"
      ],
      "text/plain": [
       "               Name                             Description      Units Yearly  \\\n",
       "0               ALD                 Soil active layer depth          m    NaN   \n",
       "1              AVLN                  Total soil available N       g/m2    NaN   \n",
       "2      BURNAIR2SOIN     Nitrogen deposit from fire emission  g/m2/time    NaN   \n",
       "3          BURNSOIC                           Burned soil C  g/m2/time    NaN   \n",
       "4         BURNSOILN                           Burned soil N  g/m2/time    NaN   \n",
       "5         BURNTHICK                  Ground burn thickness           m    NaN   \n",
       "6      BURNVEG2AIRC       Burned vegetation C to atmosphere  g/m2/time    NaN   \n",
       "7      BURNVEG2AIRN       Burned vegetation N to atmosphere  g/m2/time    NaN   \n",
       "8     BURNVEG2DEADC  Burned vegetation C to standing dead C  g/m2/time    NaN   \n",
       "9     BURNVEG2DEADN  Burned vegetation N to standing dead N  g/m2/time    NaN   \n",
       "10  BURNVEG2SOIABVC       Burned vegetation C to soil above  g/m2/time    NaN   \n",
       "11  BURNVEG2SOIABVN       Burned vegetation N to soil above  g/m2/time    NaN   \n",
       "12  BURNVEG2SOIBLWC       Burned vegetation C to soil below  g/m2/time    NaN   \n",
       "13  BURNVEG2SOIBLWN       Burned vegetation N to soil below  g/m2/time    NaN   \n",
       "14           CMTNUM                   Community Type Number          m    NaN   \n",
       "\n",
       "    Monthly    Daily      PFT Compartments   Layers Data Type  Placeholder  \n",
       "0   invalid  invalid  invalid      invalid  invalid    double          NaN  \n",
       "1       NaN  invalid  invalid      invalid      NaN    double          NaN  \n",
       "2       NaN  invalid  invalid      invalid  invalid    double          NaN  \n",
       "3       NaN  invalid  invalid      invalid  invalid    double          NaN  \n",
       "4       NaN  invalid  invalid      invalid  invalid    double          NaN  \n",
       "5       NaN  invalid  invalid      invalid  invalid    double          NaN  \n",
       "6       NaN  invalid  invalid      invalid  invalid    double          NaN  \n",
       "7       NaN  invalid  invalid      invalid  invalid    double          NaN  \n",
       "8       NaN  invalid  invalid      invalid  invalid    double          NaN  \n",
       "9       NaN  invalid  invalid      invalid  invalid    double          NaN  \n",
       "10      NaN  invalid  invalid      invalid  invalid    double          NaN  \n",
       "11      NaN  invalid  invalid      invalid  invalid    double          NaN  \n",
       "12      NaN  invalid  invalid      invalid  invalid    double          NaN  \n",
       "13      NaN  invalid  invalid      invalid  invalid    double          NaN  \n",
       "14  invalid  invalid  invalid      invalid  invalid       int          NaN  "
      ]
     },
     "execution_count": 14,
     "metadata": {},
     "output_type": "execute_result"
    }
   ],
   "source": [
    "import pandas as pd\n",
    "outspec = pd.read_csv('../dvmdostem-workflows/testcase_0001/config/output_spec.csv')\n",
    "outspec.head(15)"
   ]
  },
  {
   "cell_type": "markdown",
   "id": "602ba343",
   "metadata": {},
   "source": [
    "Now use the utility helper script to change the file:"
   ]
  },
  {
   "cell_type": "code",
   "execution_count": 15,
   "id": "b52c48b9",
   "metadata": {},
   "outputs": [
    {
     "name": "stdout",
     "output_type": "stream",
     "text": [
      "                Name                Units       Yearly      Monthly        Daily          PFT Compartments       Layers    Data Type     Description\n",
      "                 GPP            g/m2/time            y            m      invalid            p                   invalid       double     GPP\n",
      "                Name                Units       Yearly      Monthly        Daily          PFT Compartments       Layers    Data Type     Description\n",
      "              CMTNUM                    m            y      invalid      invalid      invalid      invalid      invalid          int     Community Type Number\n"
     ]
    }
   ],
   "source": [
    "!docker compose exec dvmdostem-run outspec_utils.py \\\n",
    "/data/workflows/testcase_0001/config/output_spec.csv \\\n",
    "--on GPP p m\n",
    "\n",
    "!docker compose exec dvmdostem-run outspec_utils.py \\\n",
    "/data/workflows/testcase_0001/config/output_spec.csv \\\n",
    "--on CMTNUM y\n"
   ]
  },
  {
   "cell_type": "markdown",
   "id": "d4cc6624",
   "metadata": {},
   "source": [
    "## Adjust other settings\n",
    "\n",
    "Now modify the config file to turn on equilibrium stage outputs. Again there are about 100 ways to do this (on the host, in the container, with a text editor, programatically, etc). For these purposes, we will work from the host, mostly so we can record (and run) the Python snippet here in the notebook:"
   ]
  },
  {
   "cell_type": "code",
   "execution_count": 16,
   "id": "9fbabca7",
   "metadata": {},
   "outputs": [],
   "source": [
    "import json\n",
    "\n",
    "CONFIG_FILE = '../dvmdostem-workflows/testcase_0001/config/config.js'\n",
    "\n",
    "# Read the existing data into memory\n",
    "with open(CONFIG_FILE, 'r') as f:\n",
    "    config = json.load(f)\n",
    "\n",
    "# Modify it\n",
    "config['IO']['output_nc_eq'] = 1\n",
    "\n",
    "# Write it back..\n",
    "with open(CONFIG_FILE, 'w') as f:\n",
    "    json.dump(config, f, indent=2)"
   ]
  },
  {
   "cell_type": "markdown",
   "id": "fcf830e6",
   "metadata": {},
   "source": [
    "Note you can check on the file with `!cat {CONFIG_FILE}`."
   ]
  },
  {
   "cell_type": "markdown",
   "id": "acbf3525",
   "metadata": {},
   "source": [
    "# RUN\n",
    "\n",
    "Now finally we will launch our `dvmdostem` run. For these purposes, we are just doing a 200 year equlibrium run. We are going to force this to run as CMT 4 (Tussock Tundra)."
   ]
  },
  {
   "cell_type": "code",
   "execution_count": 17,
   "id": "464bed19",
   "metadata": {},
   "outputs": [
    {
     "name": "stdout",
     "output_type": "stream",
     "text": [
      "Setting up logging...\n",
      "[err] [PRE-RUN->Y] y: 0 x: 0 Year: 0\n",
      "[err] [PRE-RUN->Y] y: 0 x: 0 Year: 1\n",
      "[err] [PRE-RUN->Y] y: 0 x: 0 Year: 2\n",
      "[err] [PRE-RUN->Y] y: 0 x: 0 Year: 3\n",
      "[err] [PRE-RUN->Y] y: 0 x: 0 Year: 4\n",
      "[err] [PRE-RUN->Y] y: 0 x: 0 Year: 5\n",
      "[err] [PRE-RUN->Y] y: 0 x: 0 Year: 6\n",
      "[err] [PRE-RUN->Y] y: 0 x: 0 Year: 7\n",
      "[err] [PRE-RUN->Y] y: 0 x: 0 Year: 8\n",
      "[err] [PRE-RUN->Y] y: 0 x: 0 Year: 9\n",
      "[err] [PRE-RUN->Y] y: 0 x: 0 Year: 10\n",
      "[err] [PRE-RUN->Y] y: 0 x: 0 Year: 11\n",
      "[err] [PRE-RUN->Y] y: 0 x: 0 Year: 12\n",
      "[err] [PRE-RUN->Y] y: 0 x: 0 Year: 13\n",
      "[err] [PRE-RUN->Y] y: 0 x: 0 Year: 14\n",
      "[err] [PRE-RUN->Y] y: 0 x: 0 Year: 15\n",
      "[err] [PRE-RUN->Y] y: 0 x: 0 Year: 16\n",
      "[err] [PRE-RUN->Y] y: 0 x: 0 Year: 17\n",
      "[err] [PRE-RUN->Y] y: 0 x: 0 Year: 18\n",
      "[err] [PRE-RUN->Y] y: 0 x: 0 Year: 19\n",
      "[err] [PRE-RUN->Y] y: 0 x: 0 Year: 20\n",
      "[err] [PRE-RUN->Y] y: 0 x: 0 Year: 21\n",
      "[err] [PRE-RUN->Y] y: 0 x: 0 Year: 22\n",
      "[err] [PRE-RUN->Y] y: 0 x: 0 Year: 23\n",
      "[err] [PRE-RUN->Y] y: 0 x: 0 Year: 24\n",
      "[err] [PRE-RUN->Y] y: 0 x: 0 Year: 25\n",
      "[err] [PRE-RUN->Y] y: 0 x: 0 Year: 26\n",
      "[err] [PRE-RUN->Y] y: 0 x: 0 Year: 27\n",
      "[err] [PRE-RUN->Y] y: 0 x: 0 Year: 28\n",
      "[err] [PRE-RUN->Y] y: 0 x: 0 Year: 29\n",
      "[err] [PRE-RUN->Y] y: 0 x: 0 Year: 30\n",
      "[err] [PRE-RUN->Y] y: 0 x: 0 Year: 31\n",
      "[err] [PRE-RUN->Y] y: 0 x: 0 Year: 32\n",
      "[err] [PRE-RUN->Y] y: 0 x: 0 Year: 33\n",
      "[err] [PRE-RUN->Y] y: 0 x: 0 Year: 34\n",
      "[err] [PRE-RUN->Y] y: 0 x: 0 Year: 35\n",
      "[err] [PRE-RUN->Y] y: 0 x: 0 Year: 36\n",
      "[err] [PRE-RUN->Y] y: 0 x: 0 Year: 37\n",
      "[err] [PRE-RUN->Y] y: 0 x: 0 Year: 38\n",
      "[err] [PRE-RUN->Y] y: 0 x: 0 Year: 39\n",
      "[err] [PRE-RUN->Y] y: 0 x: 0 Year: 40\n",
      "[err] [PRE-RUN->Y] y: 0 x: 0 Year: 41\n",
      "[err] [PRE-RUN->Y] y: 0 x: 0 Year: 42\n",
      "[err] [PRE-RUN->Y] y: 0 x: 0 Year: 43\n",
      "[err] [PRE-RUN->Y] y: 0 x: 0 Year: 44\n",
      "[err] [PRE-RUN->Y] y: 0 x: 0 Year: 45\n",
      "[err] [PRE-RUN->Y] y: 0 x: 0 Year: 46\n",
      "[err] [PRE-RUN->Y] y: 0 x: 0 Year: 47\n",
      "[err] [PRE-RUN->Y] y: 0 x: 0 Year: 48\n",
      "[err] [PRE-RUN->Y] y: 0 x: 0 Year: 49\n",
      "[fatal] [EQ] Equilibrium Initial Year Count: 200\n",
      "[fatal] [EQ] Running Equilibrium, 200 years.\n",
      "[err] [EQ->Y] y: 0 x: 0 Year: 0\n",
      "[err] [EQ->Y] y: 0 x: 0 Year: 1\n",
      "[err] [EQ->Y] y: 0 x: 0 Year: 2\n",
      "[err] [EQ->Y] y: 0 x: 0 Year: 3\n",
      "[err] [EQ->Y] y: 0 x: 0 Year: 4\n",
      "[err] [EQ->Y] y: 0 x: 0 Year: 5\n",
      "[err] [EQ->Y] y: 0 x: 0 Year: 6\n",
      "[err] [EQ->Y] y: 0 x: 0 Year: 7\n",
      "[err] [EQ->Y] y: 0 x: 0 Year: 8\n",
      "[err] [EQ->Y] y: 0 x: 0 Year: 9\n",
      "[err] [EQ->Y] y: 0 x: 0 Year: 10\n",
      "[err] [EQ->Y] y: 0 x: 0 Year: 11\n",
      "[err] [EQ->Y] y: 0 x: 0 Year: 12\n",
      "[err] [EQ->Y] y: 0 x: 0 Year: 13\n",
      "[err] [EQ->Y] y: 0 x: 0 Year: 14\n",
      "[err] [EQ->Y] y: 0 x: 0 Year: 15\n",
      "[err] [EQ->Y] y: 0 x: 0 Year: 16\n",
      "[err] [EQ->Y] y: 0 x: 0 Year: 17\n",
      "[err] [EQ->Y] y: 0 x: 0 Year: 18\n",
      "[err] [EQ->Y] y: 0 x: 0 Year: 19\n",
      "[err] [EQ->Y] y: 0 x: 0 Year: 20\n",
      "[err] [EQ->Y] y: 0 x: 0 Year: 21\n",
      "[err] [EQ->Y] y: 0 x: 0 Year: 22\n",
      "[err] [EQ->Y] y: 0 x: 0 Year: 23\n",
      "[err] [EQ->Y] y: 0 x: 0 Year: 24\n",
      "[err] [EQ->Y] y: 0 x: 0 Year: 25\n",
      "[err] [EQ->Y] y: 0 x: 0 Year: 26\n",
      "[err] [EQ->Y] y: 0 x: 0 Year: 27\n",
      "[err] [EQ->Y] y: 0 x: 0 Year: 28\n",
      "[err] [EQ->Y] y: 0 x: 0 Year: 29\n",
      "[err] [EQ->Y] y: 0 x: 0 Year: 30\n",
      "[err] [EQ->Y] y: 0 x: 0 Year: 31\n",
      "[err] [EQ->Y] y: 0 x: 0 Year: 32\n",
      "[err] [EQ->Y] y: 0 x: 0 Year: 33\n",
      "[err] [EQ->Y] y: 0 x: 0 Year: 34\n",
      "[err] [EQ->Y] y: 0 x: 0 Year: 35\n",
      "[err] [EQ->Y] y: 0 x: 0 Year: 36\n",
      "[err] [EQ->Y] y: 0 x: 0 Year: 37\n",
      "[err] [EQ->Y] y: 0 x: 0 Year: 38\n",
      "[err] [EQ->Y] y: 0 x: 0 Year: 39\n",
      "[err] [EQ->Y] y: 0 x: 0 Year: 40\n",
      "[err] [EQ->Y] y: 0 x: 0 Year: 41\n",
      "[err] [EQ->Y] y: 0 x: 0 Year: 42\n",
      "[err] [EQ->Y] y: 0 x: 0 Year: 43\n",
      "[err] [EQ->Y] y: 0 x: 0 Year: 44\n",
      "[err] [EQ->Y] y: 0 x: 0 Year: 45\n",
      "[err] [EQ->Y] y: 0 x: 0 Year: 46\n",
      "[err] [EQ->Y] y: 0 x: 0 Year: 47\n",
      "[err] [EQ->Y] y: 0 x: 0 Year: 48\n",
      "[err] [EQ->Y] y: 0 x: 0 Year: 49\n",
      "[err] [EQ->Y] y: 0 x: 0 Year: 50\n",
      "[err] [EQ->Y] y: 0 x: 0 Year: 51\n",
      "[err] [EQ->Y] y: 0 x: 0 Year: 52\n",
      "[err] [EQ->Y] y: 0 x: 0 Year: 53\n",
      "[err] [EQ->Y] y: 0 x: 0 Year: 54\n",
      "[err] [EQ->Y] y: 0 x: 0 Year: 55\n",
      "[err] [EQ->Y] y: 0 x: 0 Year: 56\n",
      "[err] [EQ->Y] y: 0 x: 0 Year: 57\n",
      "[err] [EQ->Y] y: 0 x: 0 Year: 58\n",
      "[err] [EQ->Y] y: 0 x: 0 Year: 59\n",
      "[err] [EQ->Y] y: 0 x: 0 Year: 60\n",
      "[err] [EQ->Y] y: 0 x: 0 Year: 61\n",
      "[err] [EQ->Y] y: 0 x: 0 Year: 62\n",
      "[err] [EQ->Y] y: 0 x: 0 Year: 63\n",
      "[err] [EQ->Y] y: 0 x: 0 Year: 64\n",
      "[err] [EQ->Y] y: 0 x: 0 Year: 65\n",
      "[err] [EQ->Y] y: 0 x: 0 Year: 66\n",
      "[err] [EQ->Y] y: 0 x: 0 Year: 67\n",
      "[err] [EQ->Y] y: 0 x: 0 Year: 68\n",
      "[err] [EQ->Y] y: 0 x: 0 Year: 69\n",
      "[err] [EQ->Y] y: 0 x: 0 Year: 70\n",
      "[err] [EQ->Y] y: 0 x: 0 Year: 71\n",
      "[err] [EQ->Y] y: 0 x: 0 Year: 72\n",
      "[err] [EQ->Y] y: 0 x: 0 Year: 73\n",
      "[err] [EQ->Y] y: 0 x: 0 Year: 74\n",
      "[err] [EQ->Y] y: 0 x: 0 Year: 75\n",
      "[err] [EQ->Y] y: 0 x: 0 Year: 76\n",
      "[err] [EQ->Y] y: 0 x: 0 Year: 77\n",
      "[err] [EQ->Y] y: 0 x: 0 Year: 78\n",
      "[err] [EQ->Y] y: 0 x: 0 Year: 79\n",
      "[err] [EQ->Y] y: 0 x: 0 Year: 80\n",
      "[err] [EQ->Y] y: 0 x: 0 Year: 81\n",
      "[err] [EQ->Y] y: 0 x: 0 Year: 82\n",
      "[err] [EQ->Y] y: 0 x: 0 Year: 83\n",
      "[err] [EQ->Y] y: 0 x: 0 Year: 84\n",
      "[err] [EQ->Y] y: 0 x: 0 Year: 85\n",
      "[err] [EQ->Y] y: 0 x: 0 Year: 86\n",
      "[err] [EQ->Y] y: 0 x: 0 Year: 87\n",
      "[err] [EQ->Y] y: 0 x: 0 Year: 88\n",
      "[err] [EQ->Y] y: 0 x: 0 Year: 89\n",
      "[err] [EQ->Y] y: 0 x: 0 Year: 90\n",
      "[err] [EQ->Y] y: 0 x: 0 Year: 91\n",
      "[err] [EQ->Y] y: 0 x: 0 Year: 92\n",
      "[err] [EQ->Y] y: 0 x: 0 Year: 93\n",
      "[err] [EQ->Y] y: 0 x: 0 Year: 94\n",
      "[err] [EQ->Y] y: 0 x: 0 Year: 95\n",
      "[err] [EQ->Y] y: 0 x: 0 Year: 96\n",
      "[err] [EQ->Y] y: 0 x: 0 Year: 97\n",
      "[err] [EQ->Y] y: 0 x: 0 Year: 98\n",
      "[err] [EQ->Y] y: 0 x: 0 Year: 99\n",
      "[err] [EQ->Y] y: 0 x: 0 Year: 100\n",
      "[err] [EQ->Y] y: 0 x: 0 Year: 101\n",
      "[err] [EQ->Y] y: 0 x: 0 Year: 102\n",
      "[err] [EQ->Y] y: 0 x: 0 Year: 103\n",
      "[err] [EQ->Y] y: 0 x: 0 Year: 104\n",
      "[err] [EQ->Y] y: 0 x: 0 Year: 105\n",
      "[err] [EQ->Y] y: 0 x: 0 Year: 106\n",
      "[err] [EQ->Y] y: 0 x: 0 Year: 107\n",
      "[err] [EQ->Y] y: 0 x: 0 Year: 108\n",
      "[err] [EQ->Y] y: 0 x: 0 Year: 109\n",
      "[err] [EQ->Y] y: 0 x: 0 Year: 110\n",
      "[err] [EQ->Y] y: 0 x: 0 Year: 111\n",
      "[err] [EQ->Y] y: 0 x: 0 Year: 112\n",
      "[err] [EQ->Y] y: 0 x: 0 Year: 113\n",
      "[err] [EQ->Y] y: 0 x: 0 Year: 114\n",
      "[err] [EQ->Y] y: 0 x: 0 Year: 115\n",
      "[err] [EQ->Y] y: 0 x: 0 Year: 116\n",
      "[err] [EQ->Y] y: 0 x: 0 Year: 117\n",
      "[err] [EQ->Y] y: 0 x: 0 Year: 118\n",
      "[err] [EQ->Y] y: 0 x: 0 Year: 119\n",
      "[err] [EQ->Y] y: 0 x: 0 Year: 120\n",
      "[err] [EQ->Y] y: 0 x: 0 Year: 121\n",
      "[err] [EQ->Y] y: 0 x: 0 Year: 122\n",
      "[err] [EQ->Y] y: 0 x: 0 Year: 123\n",
      "[err] [EQ->Y] y: 0 x: 0 Year: 124\n",
      "[err] [EQ->Y] y: 0 x: 0 Year: 125\n",
      "[err] [EQ->Y] y: 0 x: 0 Year: 126\n",
      "[err] [EQ->Y] y: 0 x: 0 Year: 127\n",
      "[err] [EQ->Y] y: 0 x: 0 Year: 128\n",
      "[err] [EQ->Y] y: 0 x: 0 Year: 129\n",
      "[err] [EQ->Y] y: 0 x: 0 Year: 130\n",
      "[err] [EQ->Y] y: 0 x: 0 Year: 131\n",
      "[err] [EQ->Y] y: 0 x: 0 Year: 132\n",
      "[err] [EQ->Y] y: 0 x: 0 Year: 133\n",
      "[err] [EQ->Y] y: 0 x: 0 Year: 134\n",
      "[err] [EQ->Y] y: 0 x: 0 Year: 135\n",
      "[err] [EQ->Y] y: 0 x: 0 Year: 136\n",
      "[err] [EQ->Y] y: 0 x: 0 Year: 137\n",
      "[err] [EQ->Y] y: 0 x: 0 Year: 138\n",
      "[err] [EQ->Y] y: 0 x: 0 Year: 139\n",
      "[err] [EQ->Y] y: 0 x: 0 Year: 140\n",
      "[err] [EQ->Y] y: 0 x: 0 Year: 141\n",
      "[err] [EQ->Y] y: 0 x: 0 Year: 142\n",
      "[err] [EQ->Y] y: 0 x: 0 Year: 143\n",
      "[err] [EQ->Y] y: 0 x: 0 Year: 144\n",
      "[err] [EQ->Y] y: 0 x: 0 Year: 145\n",
      "[err] [EQ->Y] y: 0 x: 0 Year: 146\n",
      "[err] [EQ->Y] y: 0 x: 0 Year: 147\n",
      "[err] [EQ->Y] y: 0 x: 0 Year: 148\n",
      "[err] [EQ->Y] y: 0 x: 0 Year: 149\n",
      "[err] [EQ->Y] y: 0 x: 0 Year: 150\n",
      "[err] [EQ->Y] y: 0 x: 0 Year: 151\n",
      "[err] [EQ->Y] y: 0 x: 0 Year: 152\n",
      "[err] [EQ->Y] y: 0 x: 0 Year: 153\n",
      "[err] [EQ->Y] y: 0 x: 0 Year: 154\n",
      "[err] [EQ->Y] y: 0 x: 0 Year: 155\n",
      "[err] [EQ->Y] y: 0 x: 0 Year: 156\n",
      "[err] [EQ->Y] y: 0 x: 0 Year: 157\n",
      "[err] [EQ->Y] y: 0 x: 0 Year: 158\n",
      "[err] [EQ->Y] y: 0 x: 0 Year: 159\n",
      "[err] [EQ->Y] y: 0 x: 0 Year: 160\n",
      "[err] [EQ->Y] y: 0 x: 0 Year: 161\n",
      "[err] [EQ->Y] y: 0 x: 0 Year: 162\n",
      "[err] [EQ->Y] y: 0 x: 0 Year: 163\n",
      "[err] [EQ->Y] y: 0 x: 0 Year: 164\n",
      "[err] [EQ->Y] y: 0 x: 0 Year: 165\n",
      "[err] [EQ->Y] y: 0 x: 0 Year: 166\n",
      "[err] [EQ->Y] y: 0 x: 0 Year: 167\n",
      "[err] [EQ->Y] y: 0 x: 0 Year: 168\n",
      "[err] [EQ->Y] y: 0 x: 0 Year: 169\n",
      "[err] [EQ->Y] y: 0 x: 0 Year: 170\n",
      "[err] [EQ->Y] y: 0 x: 0 Year: 171\n",
      "[err] [EQ->Y] y: 0 x: 0 Year: 172\n",
      "[err] [EQ->Y] y: 0 x: 0 Year: 173\n",
      "[err] [EQ->Y] y: 0 x: 0 Year: 174\n",
      "[err] [EQ->Y] y: 0 x: 0 Year: 175\n",
      "[err] [EQ->Y] y: 0 x: 0 Year: 176\n",
      "[err] [EQ->Y] y: 0 x: 0 Year: 177\n",
      "[err] [EQ->Y] y: 0 x: 0 Year: 178\n",
      "[err] [EQ->Y] y: 0 x: 0 Year: 179\n",
      "[err] [EQ->Y] y: 0 x: 0 Year: 180\n",
      "[err] [EQ->Y] y: 0 x: 0 Year: 181\n",
      "[err] [EQ->Y] y: 0 x: 0 Year: 182\n",
      "[err] [EQ->Y] y: 0 x: 0 Year: 183\n",
      "[err] [EQ->Y] y: 0 x: 0 Year: 184\n",
      "[err] [EQ->Y] y: 0 x: 0 Year: 185\n"
     ]
    },
    {
     "name": "stdout",
     "output_type": "stream",
     "text": [
      "[err] [EQ->Y] y: 0 x: 0 Year: 186\n",
      "[err] [EQ->Y] y: 0 x: 0 Year: 187\n",
      "[err] [EQ->Y] y: 0 x: 0 Year: 188\n",
      "[err] [EQ->Y] y: 0 x: 0 Year: 189\n",
      "[err] [EQ->Y] y: 0 x: 0 Year: 190\n",
      "[err] [EQ->Y] y: 0 x: 0 Year: 191\n",
      "[err] [EQ->Y] y: 0 x: 0 Year: 192\n",
      "[err] [EQ->Y] y: 0 x: 0 Year: 193\n",
      "[err] [EQ->Y] y: 0 x: 0 Year: 194\n",
      "[err] [EQ->Y] y: 0 x: 0 Year: 195\n",
      "[err] [EQ->Y] y: 0 x: 0 Year: 196\n",
      "[err] [EQ->Y] y: 0 x: 0 Year: 197\n",
      "[err] [EQ->Y] y: 0 x: 0 Year: 198\n",
      "[err] [EQ->Y] y: 0 x: 0 Year: 199\n",
      "cell 0, 0 complete.33\n",
      "[fatal] [] Skipping cell (0, 1)\n",
      "[fatal] [] Skipping cell (0, 2)\n",
      "[fatal] [] Skipping cell (0, 3)\n",
      "[fatal] [] Skipping cell (0, 4)\n",
      "[fatal] [] Skipping cell (0, 5)\n",
      "[fatal] [] Skipping cell (0, 6)\n",
      "[fatal] [] Skipping cell (0, 7)\n",
      "[fatal] [] Skipping cell (0, 8)\n",
      "[fatal] [] Skipping cell (0, 9)\n",
      "[fatal] [] Skipping cell (1, 0)\n",
      "[fatal] [] Skipping cell (1, 1)\n",
      "[fatal] [] Skipping cell (1, 2)\n",
      "[fatal] [] Skipping cell (1, 3)\n",
      "[fatal] [] Skipping cell (1, 4)\n",
      "[fatal] [] Skipping cell (1, 5)\n",
      "[fatal] [] Skipping cell (1, 6)\n",
      "[fatal] [] Skipping cell (1, 7)\n",
      "[fatal] [] Skipping cell (1, 8)\n",
      "[fatal] [] Skipping cell (1, 9)\n",
      "[fatal] [] Skipping cell (2, 0)\n",
      "[fatal] [] Skipping cell (2, 1)\n",
      "[fatal] [] Skipping cell (2, 2)\n",
      "[fatal] [] Skipping cell (2, 3)\n",
      "[fatal] [] Skipping cell (2, 4)\n",
      "[fatal] [] Skipping cell (2, 5)\n",
      "[fatal] [] Skipping cell (2, 6)\n",
      "[fatal] [] Skipping cell (2, 7)\n",
      "[fatal] [] Skipping cell (2, 8)\n",
      "[fatal] [] Skipping cell (2, 9)\n",
      "[fatal] [] Skipping cell (3, 0)\n",
      "[fatal] [] Skipping cell (3, 1)\n",
      "[fatal] [] Skipping cell (3, 2)\n",
      "[fatal] [] Skipping cell (3, 3)\n",
      "[fatal] [] Skipping cell (3, 4)\n",
      "[fatal] [] Skipping cell (3, 5)\n",
      "[fatal] [] Skipping cell (3, 6)\n",
      "[fatal] [] Skipping cell (3, 7)\n",
      "[fatal] [] Skipping cell (3, 8)\n",
      "[fatal] [] Skipping cell (3, 9)\n",
      "[fatal] [] Skipping cell (4, 0)\n",
      "[fatal] [] Skipping cell (4, 1)\n",
      "[fatal] [] Skipping cell (4, 2)\n",
      "[fatal] [] Skipping cell (4, 3)\n",
      "[fatal] [] Skipping cell (4, 4)\n",
      "[fatal] [] Skipping cell (4, 5)\n",
      "[fatal] [] Skipping cell (4, 6)\n",
      "[fatal] [] Skipping cell (4, 7)\n",
      "[fatal] [] Skipping cell (4, 8)\n",
      "[fatal] [] Skipping cell (4, 9)\n",
      "[fatal] [] Skipping cell (5, 0)\n",
      "[fatal] [] Skipping cell (5, 1)\n",
      "[fatal] [] Skipping cell (5, 2)\n",
      "[fatal] [] Skipping cell (5, 3)\n",
      "[fatal] [] Skipping cell (5, 4)\n",
      "[fatal] [] Skipping cell (5, 5)\n",
      "[fatal] [] Skipping cell (5, 6)\n",
      "[fatal] [] Skipping cell (5, 7)\n",
      "[fatal] [] Skipping cell (5, 8)\n",
      "[fatal] [] Skipping cell (5, 9)\n",
      "[fatal] [] Skipping cell (6, 0)\n",
      "[fatal] [] Skipping cell (6, 1)\n",
      "[fatal] [] Skipping cell (6, 2)\n",
      "[fatal] [] Skipping cell (6, 3)\n",
      "[fatal] [] Skipping cell (6, 4)\n",
      "[fatal] [] Skipping cell (6, 5)\n",
      "[fatal] [] Skipping cell (6, 6)\n",
      "[fatal] [] Skipping cell (6, 7)\n",
      "[fatal] [] Skipping cell (6, 8)\n",
      "[fatal] [] Skipping cell (6, 9)\n",
      "[fatal] [] Skipping cell (7, 0)\n",
      "[fatal] [] Skipping cell (7, 1)\n",
      "[fatal] [] Skipping cell (7, 2)\n",
      "[fatal] [] Skipping cell (7, 3)\n",
      "[fatal] [] Skipping cell (7, 4)\n",
      "[fatal] [] Skipping cell (7, 5)\n",
      "[fatal] [] Skipping cell (7, 6)\n",
      "[fatal] [] Skipping cell (7, 7)\n",
      "[fatal] [] Skipping cell (7, 8)\n",
      "[fatal] [] Skipping cell (7, 9)\n",
      "[fatal] [] Skipping cell (8, 0)\n",
      "[fatal] [] Skipping cell (8, 1)\n",
      "[fatal] [] Skipping cell (8, 2)\n",
      "[fatal] [] Skipping cell (8, 3)\n",
      "[fatal] [] Skipping cell (8, 4)\n",
      "[fatal] [] Skipping cell (8, 5)\n",
      "[fatal] [] Skipping cell (8, 6)\n",
      "[fatal] [] Skipping cell (8, 7)\n",
      "[fatal] [] Skipping cell (8, 8)\n",
      "[fatal] [] Skipping cell (8, 9)\n",
      "[fatal] [] Skipping cell (9, 0)\n",
      "[fatal] [] Skipping cell (9, 1)\n",
      "[fatal] [] Skipping cell (9, 2)\n",
      "[fatal] [] Skipping cell (9, 3)\n",
      "[fatal] [] Skipping cell (9, 4)\n",
      "[fatal] [] Skipping cell (9, 5)\n",
      "[fatal] [] Skipping cell (9, 6)\n",
      "[fatal] [] Skipping cell (9, 7)\n",
      "[fatal] [] Skipping cell (9, 8)\n",
      "[fatal] [] Skipping cell (9, 9)\n",
      "Total Seconds: 34\n"
     ]
    }
   ],
   "source": [
    "!docker compose exec --workdir /data/workflows/testcase_0001 dvmdostem-run \\\n",
    "dvmdostem -p 50 -e 200 -s 0 -t 0 -n 0 -l err --force-cmt 4"
   ]
  },
  {
   "cell_type": "markdown",
   "id": "dd07d018",
   "metadata": {},
   "source": [
    "Thats it! If we look in the output directory, we expect to see one output file for the equlibrium stage, GPP:"
   ]
  },
  {
   "cell_type": "code",
   "execution_count": 18,
   "id": "37437198",
   "metadata": {},
   "outputs": [
    {
     "name": "stdout",
     "output_type": "stream",
     "text": [
      "CMTNUM_yearly_eq.nc  restart-eq.nc  restart-sc.nc  restart-tr.nc\r",
      "\r\n",
      "GPP_monthly_eq.nc    restart-pr.nc  restart-sp.nc  run_status.nc\r",
      "\r\n"
     ]
    }
   ],
   "source": [
    "!docker compose exec dvmdostem-run ls /data/workflows/testcase_0001/output"
   ]
  },
  {
   "cell_type": "code",
   "execution_count": 19,
   "id": "6549e1e8",
   "metadata": {},
   "outputs": [
    {
     "name": "stdout",
     "output_type": "stream",
     "text": [
      "netcdf run_status {\r\n",
      "dimensions:\r\n",
      "\tY = 10 ;\r\n",
      "\tX = 10 ;\r\n",
      "variables:\r\n",
      "\tint run_status(Y, X) ;\r\n",
      "data:\r\n",
      "\r\n",
      " run_status =\r\n",
      "  100, 0, 0, 0, 0, 0, 0, 0, 0, 0,\r\n",
      "  0, 0, 0, 0, 0, 0, 0, 0, 0, 0,\r\n",
      "  0, 0, 0, 0, 0, 0, 0, 0, 0, 0,\r\n",
      "  0, 0, 0, 0, 0, 0, 0, 0, 0, 0,\r\n",
      "  0, 0, 0, 0, 0, 0, 0, 0, 0, 0,\r\n",
      "  0, 0, 0, 0, 0, 0, 0, 0, 0, 0,\r\n",
      "  0, 0, 0, 0, 0, 0, 0, 0, 0, 0,\r\n",
      "  0, 0, 0, 0, 0, 0, 0, 0, 0, 0,\r\n",
      "  0, 0, 0, 0, 0, 0, 0, 0, 0, 0,\r\n",
      "  0, 0, 0, 0, 0, 0, 0, 0, 0, 0 ;\r\n",
      "}\r\n"
     ]
    }
   ],
   "source": [
    "!ncdump ../dvmdostem-workflows/testcase_0001/output/run_status.nc\n"
   ]
  },
  {
   "cell_type": "markdown",
   "id": "564797cb",
   "metadata": {},
   "source": [
    "# Plotting\n",
    "\n",
    "Again, this can be done a few ways (host or guest). For these purposes, we will run on the host."
   ]
  },
  {
   "cell_type": "code",
   "execution_count": 20,
   "id": "936fb8f5",
   "metadata": {},
   "outputs": [],
   "source": [
    "import netCDF4 as nc\n",
    "import scripts.output_utils as ou\n",
    "import matplotlib.pyplot as plt"
   ]
  },
  {
   "cell_type": "markdown",
   "id": "5a886a76",
   "metadata": {},
   "source": [
    "The output_utils script has a bunch of unfinished plotting tools in it and some useful funcitons for summarizing outputs (i.e. summing PFTs or converting monthly outputs to yearly).\n",
    "\n",
    "First just see what output files we have to work with:"
   ]
  },
  {
   "cell_type": "code",
   "execution_count": 21,
   "id": "3dee406d",
   "metadata": {},
   "outputs": [
    {
     "name": "stdout",
     "output_type": "stream",
     "text": [
      "CMTNUM_yearly_eq.nc restart-eq.nc       restart-sc.nc       restart-tr.nc\r\n",
      "GPP_monthly_eq.nc   restart-pr.nc       restart-sp.nc       run_status.nc\r\n"
     ]
    }
   ],
   "source": [
    "!ls ../dvmdostem-workflows/testcase_0001/output/"
   ]
  },
  {
   "cell_type": "markdown",
   "id": "43f236d8",
   "metadata": {},
   "source": [
    "### Summarize to yearly, plot first 5 PFTs"
   ]
  },
  {
   "cell_type": "code",
   "execution_count": 22,
   "id": "356a9368",
   "metadata": {},
   "outputs": [
    {
     "data": {
      "image/png": "[encoded data removed]",
      "text/plain": [
       "<Figure size 432x288 with 1 Axes>"
      ]
     },
     "metadata": {
      "needs_background": "light"
     },
     "output_type": "display_data"
    }
   ],
   "source": [
    "ds = nc.Dataset(\"../dvmdostem-workflows/testcase_0001/output/GPP_monthly_eq.nc\")\n",
    "gpp = ds.variables['GPP'][:]\n",
    "yrly_gpp = ou.sum_monthly_flux_to_yearly(gpp)\n",
    "for pft in range(0,5):\n",
    "    plt.plot(yrly_gpp[:,pft,0,0], label='pft{}'.format(pft))\n",
    "plt.xlabel('run year')\n",
    "plt.ylabel('{} ({})'.format('GPP', 'g/m2/year'))\n",
    "_ = plt.legend()"
   ]
  },
  {
   "cell_type": "markdown",
   "id": "68711c6e",
   "metadata": {},
   "source": [
    "### Summarize to yearly, sum PFTs "
   ]
  },
  {
   "cell_type": "code",
   "execution_count": 23,
   "id": "64f6c4c1",
   "metadata": {},
   "outputs": [
    {
     "data": {
      "image/png": "[encoded data removed]",
      "text/plain": [
       "<Figure size 432x288 with 1 Axes>"
      ]
     },
     "metadata": {
      "needs_background": "light"
     },
     "output_type": "display_data"
    }
   ],
   "source": [
    "plt.plot(ou.sum_across_pfts(yrly_gpp)[:,0,0], label='all pfts')\n",
    "plt.xlabel('run year')\n",
    "_ = plt.ylabel('GPP (g/m2/year)')"
   ]
  },
  {
   "cell_type": "markdown",
   "id": "0a1be019",
   "metadata": {},
   "source": [
    "### Plot the last 10 years at monthly resolution, first 5 PFTs"
   ]
  },
  {
   "cell_type": "code",
   "execution_count": 24,
   "id": "fe28dc2b",
   "metadata": {},
   "outputs": [
    {
     "data": {
      "image/png": "[encoded data removed]",
      "text/plain": [
       "<Figure size 432x288 with 1 Axes>"
      ]
     },
     "metadata": {
      "needs_background": "light"
     },
     "output_type": "display_data"
    }
   ],
   "source": [
    "import netCDF4 as nc\n",
    "ds = nc.Dataset(\"../dvmdostem-workflows/testcase_0001/output/GPP_monthly_eq.nc\")\n",
    "gpp = ds.variables['GPP'][:]\n",
    "for pft in range(0,5):\n",
    "    plt.plot(gpp[-120:,pft,0,0], label='pft{}'.format(pft))\n",
    "plt.xlabel('month')\n",
    "plt.ylabel('GPP ({})'.format(ds.variables['GPP'].units))\n",
    "_ = plt.legend()"
   ]
  },
  {
   "cell_type": "markdown",
   "id": "cda19372",
   "metadata": {},
   "source": [
    "### Unfinished output_utils.py plot function"
   ]
  },
  {
   "cell_type": "code",
   "execution_count": 25,
   "id": "4d49355d",
   "metadata": {},
   "outputs": [
    {
     "name": "stdout",
     "output_type": "stream",
     "text": [
      "Trying to open:  ../dvmdostem-workflows/testcase_0001/output/GPP_monthly_eq.nc\n",
      "(2400, 10, 10, 10)\n"
     ]
    },
    {
     "data": {
      "image/png": "[encoded data removed]",
      "text/plain": [
       "<Figure size 432x288 with 1 Axes>"
      ]
     },
     "metadata": {
      "needs_background": "light"
     },
     "output_type": "display_data"
    }
   ],
   "source": [
    "ou.plot_basic_timeseries(['GPP'],0,0,'monthly',['eq'],'../dvmdostem-workflows/testcase_0001/output/')"
   ]
  },
  {
   "cell_type": "code",
   "execution_count": null,
   "id": "ecdaaec2",
   "metadata": {},
   "outputs": [],
   "source": []
  }
 ],
 "metadata": {
  "kernelspec": {
   "display_name": "Python 3",
   "language": "python",
   "name": "python3"
  },
  "language_info": {
   "codemirror_mode": {
    "name": "ipython",
    "version": 3
   },
   "file_extension": ".py",
   "mimetype": "text/x-python",
   "name": "python",
   "nbconvert_exporter": "python",
   "pygments_lexer": "ipython3",
   "version": "3.8.2"
  }
 },
 "nbformat": 4,
 "nbformat_minor": 5
}
