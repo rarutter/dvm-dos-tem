{
 "cells": [
  {
   "cell_type": "markdown",
   "source": [
    "# The step-by-step guide into the sensitivity analysis workflow. \n",
    "\n",
    "The workflow is designed to run from the inside of the docker container and assumes a specific folder layout. This notebook shows how to use the SensitivityDriver object and methods in the Sensitivity module to design and conduct a sensitivity analysis of dvmdostem parameters.\n",
    "\n",
    "Authors: Tobey Carman and Elchin Jafarov"
   ],
   "metadata": {}
  },
  {
   "cell_type": "markdown",
   "source": [
    "## Working with docker \n",
    "Assuming that docker was successfully installed, and that you have built the appropriate docker images (see note) navigate to your local dvmdostem folder and then:\n",
    "\n",
    "1. Strat the containers <br/>\n",
    "`$ docker compose up -d` <br/>\n",
    "2. Enter to the container <br/>\n",
    "`$ docker compose exec dvmdostem-run bash` <br/>\n",
    "3. Start jupyter notebook inside the /work folder <br/>\n",
    "`$ jupyter notebook --ip 0.0.0.0 --no-browser --allow-root` <br/>\n",
    "4. Copy the url into your browser. <br/>\n",
    "5. When done. Shut down container <br/>\n",
    "`$ docker compose down` <br/>\n",
    "\n",
    "> NOTE: In the future we will have pre-built docker images hosted at a container registry like Dockerhub, or Github Container Registry, or Google Container Registry, but until we get that setup, you will need to build your own images. The directions for this are in the comments of the `Dockerfile` in the dvmdostem repo."
   ],
   "metadata": {}
  },
  {
   "cell_type": "code",
   "execution_count": 1,
   "source": [
    "# This helps for development and automatically re-imports any modules when they change\n",
    "%load_ext autoreload\n",
    "%autoreload 2"
   ],
   "outputs": [],
   "metadata": {}
  },
  {
   "cell_type": "markdown",
   "source": [
    "## Getting Started"
   ],
   "metadata": {}
  },
  {
   "cell_type": "code",
   "execution_count": 2,
   "source": [
    "import os\n",
    "import json\n",
    "import numpy as np\n",
    "import pandas as pd\n",
    "import matplotlib.pyplot as plt\n",
    "\n",
    "import Sensitivity\n",
    "import param_util as pu"
   ],
   "outputs": [],
   "metadata": {}
  },
  {
   "cell_type": "markdown",
   "source": [
    "Lets get started by making a driver object and print out some info about it."
   ],
   "metadata": {}
  },
  {
   "cell_type": "code",
   "execution_count": 3,
   "source": [
    "driver = Sensitivity.SensitivityDriver()\n",
    "print(driver.info())"
   ],
   "outputs": [
    {
     "output_type": "stream",
     "name": "stdout",
     "text": [
      "--- Setup ---\n",
      "work_dir: /data/workflows/sensitivity_analysis\n",
      "site: /data/input-catalog/cru-ts40_ar5_rcp85_ncar-ccsm4_CALM_Toolik_LTER_10x10/\n",
      "pixel(y,x): (0,0)\n",
      "cmtnum: None\n",
      "pftnum: None ()\n",
      "\n",
      "--- Parameters ---\n",
      "[not set]\n",
      "\n",
      "--- Sample Matrix ---\n",
      "sample_matrix shape: [not set]\n",
      "\n",
      "--- Outputs ---\n",
      "> NOTE - these may be leftover from a prior run!\n",
      "found 10 existing sensitivity csv files.\n",
      "\n",
      "\n"
     ]
    }
   ],
   "metadata": {}
  },
  {
   "cell_type": "markdown",
   "source": [
    "OK, well now we have a `SensitivityDriver` object, but what can we do with it?? Well we can modify any parameter that exists for `dvmdostem`. How do we find these parameters? There are some helper functions in the `param_util` module for working with parameter files.\n",
    "> Note: Why in the world do we need a special `ParamUtilSpeedHelper` object here? Well the param_util.py file is written to be used in a wide varietly of circumstances and does not by default have any kind of cache or lookup structure for mapping files to parameter names. So we use a special object here, that builds such a cache and uses it, which is much faster than running the file-->parameter name look everytime."
   ],
   "metadata": {}
  },
  {
   "cell_type": "code",
   "execution_count": 4,
   "source": [
    "psh = pu.ParamUtilSpeedHelper(driver.get_initial_params_dir())\n",
    "print(psh.list_params(cmtnum=4, pftnum=0))"
   ],
   "outputs": [
    {
     "output_type": "stream",
     "name": "stdout",
     "text": [
      "/work/parameters/cmt_bgcvegetation.txt CMT4 PFT0 Salix\n",
      "  non_pft_params\n",
      "  pft_params\n",
      "            cpartr       0.0280\n",
      "         initvegcr       6.1000\n",
      "           raq10a0       2.3567\n",
      "           cnevena       0.0000\n",
      "        cnevenminr       1.0000\n",
      "           raq10a3      -0.0000\n",
      "              tmin      -8.0000\n",
      "         initvegnw       1.9400\n",
      "         initvegcw     194.0700\n",
      "        cnevenminw       1.0000\n",
      "                kc     400.0000\n",
      "           raq10a1      -0.0531\n",
      "           toptmin       5.5000\n",
      "          knuptake       0.0042\n",
      "         initvegcl      23.8500\n",
      "           toptmax      23.0000\n",
      "          cnevenbw     100.0000\n",
      "        cnevenminl       1.0000\n",
      "          cnevenbl      20.6300\n",
      "            cpartl       0.1060\n",
      "       initcnevenr      72.9900\n",
      "         initvegnr       0.0800\n",
      "          cnevenbr      72.9900\n",
      "           raq10a2       0.0024\n",
      "            cpartw       0.8660\n",
      "       initcnevenw     100.0000\n",
      "       initcnevenl      20.6300\n",
      "         initvegnl       1.1600\n",
      "           labncon       0.2000\n",
      "         initdeadc       0.0000\n",
      "              tmax      25.0000\n",
      "                ki      75.0000\n",
      "         initdeadn       0.0000\n",
      "/work/parameters/cmt_dimvegetation.txt CMT4 PFT0 Salix\n",
      "  non_pft_params\n",
      "  pft_params\n",
      "     static_lai[0]       1.0000\n",
      "     static_lai[8]       1.5000\n",
      "         frprod[3]       5.0000\n",
      "         frprod[8]       0.0000\n",
      "         frprod[2]      15.0000\n",
      "                m1      15.2060\n",
      "           vegfrac       1.0000\n",
      "              klai       0.2550\n",
      "     static_lai[5]       1.9000\n",
      "                m4       0.0001\n",
      "                m2      -0.3197\n",
      "    static_lai[11]       1.0000\n",
      "         frprod[9]       0.0000\n",
      "         frprod[7]       0.0000\n",
      "    static_lai[10]       1.1000\n",
      "             bleaf       0.3330\n",
      "     static_lai[4]       1.3000\n",
      "         frprod[5]       0.0000\n",
      "           minleaf       0.0000\n",
      "         frprod[0]      30.0000\n",
      "       ifdeciwoody       0.0000\n",
      "          kfoliage       1.6662\n",
      "     static_lai[3]       1.2000\n",
      "           ifwoody       1.0000\n",
      "         frprod[4]       0.0000\n",
      "               cov      -0.0230\n",
      "        ifperenial       1.0000\n",
      "             cleaf       0.3223\n",
      "     static_lai[1]       1.1000\n",
      "     static_lai[6]       2.0000\n",
      "     static_lai[9]       1.3000\n",
      "       initial_lai       0.0500\n",
      "         frprod[1]      50.0000\n",
      "   nonvascular type       0.0000\n",
      "     static_lai[2]       1.2000\n",
      "     static_lai[7]       2.0000\n",
      "             aleaf       0.4289\n",
      "         frprod[6]       0.0000\n",
      "                m3       0.0401\n",
      "               sla       0.0120\n",
      "/work/parameters/cmt_firepar.txt CMT4 PFT0 Salix\n",
      "  non_pft_params\n",
      "                         0.8000\n",
      "        r_retain_c       0.1000\n",
      "           vsmburn       0.5000\n",
      "        r_retain_n       0.1000\n",
      "       foslburn[5]       0.0000\n",
      "  pft_params\n",
      "                         0.8000\n",
      "     fvdead[5][10]       0.0000\n",
      "     fvcomb[5][10]       0.0000\n",
      "/work/parameters/cmt_envground.txt CMT4 PFT0 Salix\n",
      "  non_pft_params\n",
      "        initsnwtem      -1.0000\n",
      "         initts(7)      -1.0000\n",
      "        initvwc(4)       0.1000\n",
      "         initts(5)      -1.0000\n",
      "         initts(9)      -1.0000\n",
      "         snwalbmin       0.4000\n",
      "         initts(0)      -1.0000\n",
      "         initts(3)      -1.0000\n",
      "        initvwc(5)       0.1000\n",
      "        initvwc(6)       0.1000\n",
      "          rtdp4gdd       0.2000\n",
      "         initts(8)      -1.0000\n",
      "        initvwc(7)       0.1000\n",
      "        initvwc(0)       0.1000\n",
      "            psimax -15000000.0000\n",
      "         initts(6)      -1.0000\n",
      "        initvwc(8)       0.1000\n",
      "           evapmin       0.0800\n",
      "          drainmax       0.0400\n",
      "         initts(4)      -1.0000\n",
      "        initvwc(9)       0.1000\n",
      "        initvwc(3)       0.1000\n",
      "        initvwc(2)       0.1000\n",
      "         initts(2)      -1.0000\n",
      "         initts(1)      -1.0000\n",
      "        initvwc(1)       0.1000\n",
      "         snwalbmax       0.8000\n",
      "  pft_params\n",
      "/work/parameters/cmt_bgcsoil.txt CMT4 PFT0 Salix\n",
      "  non_pft_params\n",
      "            fsompr       0.6110\n",
      "            fnloss       0.0000\n",
      "         initminec   37022.0000\n",
      "             rhq10       2.0000\n",
      "          initavln       3.9300\n",
      "               kn2       0.0042\n",
      "         initdeepc    5853.0000\n",
      "         initshlwc    2340.0000\n",
      "          initsoln    1843.0000\n",
      "          moistmax       1.0000\n",
      "        nmincnsoil      29.7300\n",
      "             fsoma       0.3720\n",
      "            lcclnc      47.6000\n",
      "          propftos       0.2000\n",
      "          moistmin       0.0000\n",
      "           som2co2       0.3460\n",
      "            fsomcr       0.0170\n",
      "          moistopt       0.5000\n",
      "  pft_params\n",
      "/work/parameters/cmt_envcanopy.txt CMT4 PFT0 Salix\n",
      "  non_pft_params\n",
      "  pft_params\n",
      "         albvisnir       0.1000\n",
      "            iscoef       0.0410\n",
      "              gl_c       0.0000\n",
      "             gl_bl       0.0800\n",
      "         vpd_close    4100.0000\n",
      "                er       0.5000\n",
      "          vpd_open     930.0000\n",
      "            ppfd50      75.0000\n",
      "       initvegsnow       0.0000\n",
      "             glmax       0.0030\n",
      "      initvegwater       0.0000\n",
      "            ircoef       0.0410\n",
      "/work/parameters/cmt_dimground.txt CMT4 PFT0 Salix\n",
      "  non_pft_params\n",
      "      inithumthick       0.1121\n",
      "         snwdennew      50.0000\n",
      "      initsnwdense       0.0000\n",
      "      initsnwthick       0.0000\n",
      "         coefdeepb       0.9750\n",
      "    initdmossthick       0.0050\n",
      "         coefshlwb       0.7080\n",
      "         coefshlwa       0.0652\n",
      "         coefminea       0.0966\n",
      "         coefmineb       0.7851\n",
      "      initfibthick       0.0588\n",
      "          mosstype       1.0000\n",
      "         snwdenmax     250.0000\n",
      "      maxmossthick       0.0350\n",
      "         coefdeepa       0.0545\n",
      "  pft_params\n",
      "/work/parameters/cmt_calparbgc.txt CMT4 PFT0 Salix\n",
      "  non_pft_params\n",
      "           kdcrawc       0.9200\n",
      "          kdcsompr       0.4000\n",
      "           micbnup       0.5100\n",
      "          kdcsomcr       0.0001\n",
      "           kdcsoma       0.9300\n",
      "  pft_params\n",
      "          cfall(0)       0.1900\n",
      "              nmax       6.0000\n",
      "               kra      -0.0001\n",
      "          cfall(2)       0.0009\n",
      "            krb(0)      -1.0000\n",
      "              cmax     210.0000\n",
      "            krb(2)      -4.9000\n",
      "               frg       0.1000\n",
      "          nfall(2)       0.0000\n",
      "          cfall(1)       0.0009\n",
      "          nfall(0)       0.0000\n",
      "          nfall(1)       0.0000\n",
      "            krb(1)      -5.0100\n",
      "\n"
     ]
    }
   ],
   "metadata": {}
  },
  {
   "cell_type": "markdown",
   "source": [
    "There are a lot of dvmdostem parameters! There is also a function that can show just the non-pft parameters:\n",
    "\n",
    "> Note: Why do we have to print the result? We made the design decision to return the value and let the client decide what to do with it instead of printing within the function. This is awkward in some situations (needing to add `print(...)` all the time), and really helpful in other situations."
   ],
   "metadata": {}
  },
  {
   "cell_type": "code",
   "execution_count": 16,
   "source": [
    "print(psh.list_non_pft_params())"
   ],
   "outputs": [
    {
     "output_type": "stream",
     "name": "stdout",
     "text": [
      "/work/parameters/cmt_bgcvegetation.txt:\n",
      "/work/parameters/cmt_dimvegetation.txt:\n",
      "/work/parameters/cmt_firepar.txt:\n",
      "    \n",
      "    r_retain_c\n",
      "    vsmburn\n",
      "    r_retain_n\n",
      "    foslburn[5]\n",
      "/work/parameters/cmt_envground.txt:\n",
      "    initsnwtem\n",
      "    initts(7)\n",
      "    initvwc(4)\n",
      "    initts(5)\n",
      "    initts(9)\n",
      "    snwalbmin\n",
      "    initts(0)\n",
      "    initts(3)\n",
      "    initvwc(5)\n",
      "    initvwc(6)\n",
      "    rtdp4gdd\n",
      "    initts(8)\n",
      "    initvwc(7)\n",
      "    initvwc(0)\n",
      "    psimax\n",
      "    initts(6)\n",
      "    initvwc(8)\n",
      "    evapmin\n",
      "    drainmax\n",
      "    initts(4)\n",
      "    initvwc(9)\n",
      "    initvwc(3)\n",
      "    initvwc(2)\n",
      "    initts(2)\n",
      "    initts(1)\n",
      "    initvwc(1)\n",
      "    snwalbmax\n",
      "/work/parameters/cmt_bgcsoil.txt:\n",
      "    fsompr\n",
      "    fnloss\n",
      "    initminec\n",
      "    rhq10\n",
      "    initavln\n",
      "    kn2\n",
      "    initdeepc\n",
      "    initshlwc\n",
      "    initsoln\n",
      "    moistmax\n",
      "    nmincnsoil\n",
      "    fsoma\n",
      "    lcclnc\n",
      "    propftos\n",
      "    moistmin\n",
      "    som2co2\n",
      "    fsomcr\n",
      "    moistopt\n",
      "/work/parameters/cmt_envcanopy.txt:\n",
      "/work/parameters/cmt_dimground.txt:\n",
      "    inithumthick\n",
      "    snwdennew\n",
      "    initsnwdense\n",
      "    initsnwthick\n",
      "    coefdeepb\n",
      "    initdmossthick\n",
      "    coefshlwb\n",
      "    coefshlwa\n",
      "    coefminea\n",
      "    coefmineb\n",
      "    initfibthick\n",
      "    mosstype\n",
      "    snwdenmax\n",
      "    maxmossthick\n",
      "    coefdeepa\n",
      "/work/parameters/cmt_calparbgc.txt:\n",
      "    kdcrawc\n",
      "    kdcsompr\n",
      "    micbnup\n",
      "    kdcsomcr\n",
      "    kdcsoma\n",
      "\n"
     ]
    }
   ],
   "metadata": {}
  },
  {
   "cell_type": "markdown",
   "source": [
    "The `SensitivtyDriver` object is designed to help setup and conduct a sensitivity analysis. At the present time there are some hard-coded assumptions in the driver object (which pixel to run, the input dataset/site to use, the source of the initial parameter values, which outputs to process and the location of the working directory). The driver object is configurable with respect to the parameters to be used in the sensitivity analysis, the bounds for the parameters, which PFT to analyze, and which CMT (community type) to run.\n",
    "\n",
    "Now we have a few ways we can setup our `SensitivityDriver` object. \n",
    "\n",
    "### Option 1\n",
    "This sets up the sample_matrix based on:\n",
    "1. looking up the initial values from dvmdostem parameter files (cmt_*.txt), and\n",
    "2. setting up the bounds based on those initial values plus/minus the percent diffs.\n",
    "\n",
    "> Need a better name for `percent_diffs` - these are the % range that the bounds will be set around the initial value. Right now it defaults to +/-10% if the `percent_diffs` array is not passed."
   ],
   "metadata": {}
  },
  {
   "cell_type": "code",
   "execution_count": 5,
   "source": [
    "driver.design_experiment(50, 4, params=['cmax','rhq10'], pftnums=[0,None], percent_diffs=[.6, .2])\n",
    "print(driver.info())"
   ],
   "outputs": [
    {
     "output_type": "stream",
     "name": "stdout",
     "text": [
      "--- Setup ---\n",
      "work_dir: /data/workflows/sensitivity_analysis\n",
      "site: /data/input-catalog/cru-ts40_ar5_rcp85_ncar-ccsm4_CALM_Toolik_LTER_10x10/\n",
      "pixel(y,x): (0,0)\n",
      "cmtnum: 4\n",
      "pftnum: 0 (Salix)\n",
      "\n",
      "--- Parameters ---\n",
      "    name         bounds  initial  cmtnum pftnum\n",
      "0   cmax  [84.0, 336.0]      210       4    0.0\n",
      "1  rhq10     [1.6, 2.4]        2       4       \n",
      "\n",
      "--- Sample Matrix ---\n",
      "sample_matrix shape: (50, 2)\n",
      "\n",
      "--- Outputs ---\n",
      "> NOTE - these may be leftover from a prior run!\n",
      "found 10 existing sensitivity csv files.\n",
      "\n",
      "\n"
     ]
    }
   ],
   "metadata": {}
  },
  {
   "cell_type": "markdown",
   "source": [
    "We can also make some plots to see how our samples look with respect to the bounds and the distribution."
   ],
   "metadata": {}
  },
  {
   "cell_type": "code",
   "execution_count": 6,
   "source": [
    "driver.plot_sensitivity_matrix()"
   ],
   "outputs": [
    {
     "output_type": "display_data",
     "data": {
      "image/png": "[encoded data removed]",
      "text/plain": [
       "<Figure size 432x288 with 6 Axes>"
      ]
     },
     "metadata": {
      "needs_background": "light"
     }
    }
   ],
   "metadata": {}
  },
  {
   "cell_type": "markdown",
   "source": [
    "### Option 2\n",
    "Simply build the parameter specification by hand. The bounds are set totally manually.\n",
    "> Note that a `cmtnum` and `pftnums` are not set! This is not a problem for generating the sensitivity matrix. However it will be necessary to set a `cmtnum` and `pftnums` before conducting runs - so that the driver knows which parameters to modify and the model knows which community type to run. Knowing the community type that was used for the run will also be necessary for processing the outputs."
   ],
   "metadata": {}
  },
  {
   "cell_type": "code",
   "execution_count": 7,
   "source": [
    "names=['cmax','rhq10','micbnup']\n",
    "#pfts=[3, None, None] # meaningless w/o cmt number too!\n",
    "bounds=[[0.0,1.0], [25.0,60.0], [0.1, 0.4]]\n",
    "initials=[0.5, 40.0, 0.3]\n",
    "driver.params = [{'name':name, 'bounds':bound, 'initial':init} for name, bound, init in zip(names,bounds,initials)]\n",
    "driver.sample_matrix = Sensitivity.generate_lhc(15, driver.params)\n",
    "print(driver.info())"
   ],
   "outputs": [
    {
     "output_type": "stream",
     "name": "stdout",
     "text": [
      "--- Setup ---\n",
      "work_dir: /data/workflows/sensitivity_analysis\n",
      "site: /data/input-catalog/cru-ts40_ar5_rcp85_ncar-ccsm4_CALM_Toolik_LTER_10x10/\n",
      "pixel(y,x): (0,0)\n",
      "cmtnum: None\n",
      "pftnum: None ()\n",
      "\n",
      "--- Parameters ---\n",
      "      name        bounds  initial\n",
      "0     cmax    [0.0, 1.0]      0.5\n",
      "1    rhq10  [25.0, 60.0]     40.0\n",
      "2  micbnup    [0.1, 0.4]      0.3\n",
      "\n",
      "--- Sample Matrix ---\n",
      "sample_matrix shape: (15, 3)\n",
      "\n",
      "--- Outputs ---\n",
      "> NOTE - these may be leftover from a prior run!\n",
      "found 10 existing sensitivity csv files.\n",
      "\n",
      "\n"
     ]
    }
   ],
   "metadata": {}
  },
  {
   "cell_type": "markdown",
   "source": [
    "Additionally, there is a way to save the experiment. This will output 2 files, one for the parameters, and one of the sample matrix."
   ],
   "metadata": {}
  },
  {
   "cell_type": "code",
   "execution_count": 8,
   "source": [
    "driver.save_experiment(\"/tmp/test_001\")\n",
    "!cat /tmp/test_001_param_props.csv\n",
    "!cat /tmp/test_001_sample_matrix.csv"
   ],
   "outputs": [
    {
     "output_type": "stream",
     "name": "stdout",
     "text": [
      "Saving /tmp/test_001_sample_matrix.csv\n",
      "Saving /tmp/test_001_param_props.csv\n",
      "name,bounds,initial\n",
      "cmax,\"[0.0, 1.0]\",0.5\n",
      "rhq10,\"[25.0, 60.0]\",40.0\n",
      "micbnup,\"[0.1, 0.4]\",0.3\n",
      "cmax,rhq10,micbnup\n",
      "0.5109114110241766,51.82281307114779,0.14370265857677242\n",
      "0.7291219826216505,33.60627225833139,0.11083801894756717\n",
      "0.8488381398140167,47.01459712340874,0.29745891671752817\n",
      "0.014329358572717117,44.24160474422459,0.19464449772819126\n",
      "0.40207887567075234,50.24457207457313,0.23613122295722902\n",
      "0.35081760295332165,57.19863705092762,0.3931756673342144\n",
      "0.23967186204668367,59.28762509866033,0.3338455312903571\n",
      "0.8700950542322834,25.635005320203245,0.2569839130313064\n",
      "0.16642441648008244,42.71053822269454,0.20499336017718373\n",
      "0.9731228565944593,37.50893909286006,0.12978849927286282\n",
      "0.08894959272113072,34.547024837762145,0.36442418883639205\n",
      "0.6513941469163881,41.14039834274523,0.17975336015993296\n",
      "0.7404398835422514,29.985910138810908,0.31888118679373234\n",
      "0.5383425187823873,29.550553825581872,0.34078853622737015\n",
      "0.31521258374690686,54.0406801369019,0.27411150345031376\n"
     ]
    }
   ],
   "metadata": {}
  },
  {
   "cell_type": "markdown",
   "source": [
    "And there is a way to load an experiment design from the text files. \n",
    "> Note that the path handling could probably be improved"
   ],
   "metadata": {}
  },
  {
   "cell_type": "code",
   "execution_count": 9,
   "source": [
    "driver.load_experiment(\"/tmp/test_001_param_props.csv\",\"/tmp/test_001_sample_matrix.csv\")\n",
    "print(driver.info())"
   ],
   "outputs": [
    {
     "output_type": "stream",
     "name": "stdout",
     "text": [
      "--- Setup ---\n",
      "work_dir: /data/workflows/sensitivity_analysis\n",
      "site: /data/input-catalog/cru-ts40_ar5_rcp85_ncar-ccsm4_CALM_Toolik_LTER_10x10/\n",
      "pixel(y,x): (0,0)\n",
      "cmtnum: None\n",
      "pftnum: None ()\n",
      "\n",
      "--- Parameters ---\n",
      "         name        bounds  initial\n",
      "0     b'cmax'    [0.0, 1.0]      0.5\n",
      "1    b'rhq10'  [25.0, 60.0]     40.0\n",
      "2  b'micbnup'    [0.1, 0.4]      0.3\n",
      "\n",
      "--- Sample Matrix ---\n",
      "sample_matrix shape: (15, 3)\n",
      "\n",
      "--- Outputs ---\n",
      "> NOTE - these may be leftover from a prior run!\n",
      "found 10 existing sensitivity csv files.\n",
      "\n",
      "\n"
     ]
    }
   ],
   "metadata": {}
  },
  {
   "cell_type": "markdown",
   "source": [
    "## Run the model over an experiment space\n",
    "\n",
    "Now that we see a few ways to use a `SensitivityDriver` object, let's start fresh with a new driver instance, setup and execute some runs.\n",
    "\n",
    "For this toy experiment, we are going to draw 10 sample sets across 3 parameters (2 soil parameter and one PFT parameter). We are going to use the default `percent_diffs` for generating the sample matrix: +/-10%. And we are going to be analyzing CMT 5 (Tussock Tundra)."
   ],
   "metadata": {}
  },
  {
   "cell_type": "code",
   "execution_count": 10,
   "source": [
    "# Instantiate object, sets pixel, outputs, working directory, site selection (input data path)\n",
    "driver = Sensitivity.SensitivityDriver()\n",
    "\n",
    "# choose parameters, number of samples, \n",
    "driver.design_experiment(10, 5, params=['cmax', 'rhq10', 'micbnup'], pftnums=[3,None,None])\n",
    "print(driver.info())\n",
    "driver.plot_sensitivity_matrix()"
   ],
   "outputs": [
    {
     "output_type": "stream",
     "name": "stdout",
     "text": [
      "--- Setup ---\n",
      "work_dir: /data/workflows/sensitivity_analysis\n",
      "site: /data/input-catalog/cru-ts40_ar5_rcp85_ncar-ccsm4_CALM_Toolik_LTER_10x10/\n",
      "pixel(y,x): (0,0)\n",
      "cmtnum: 5\n",
      "pftnum: 3 (Sedges)\n",
      "\n",
      "--- Parameters ---\n",
      "      name          bounds initial  cmtnum pftnum\n",
      "0     cmax  [405.0, 495.0]   450.0       5    3.0\n",
      "1    rhq10      [1.8, 2.2]     2.0       5       \n",
      "2  micbnup  [0.675, 0.825]    0.75       5       \n",
      "\n",
      "--- Sample Matrix ---\n",
      "sample_matrix shape: (10, 3)\n",
      "\n",
      "--- Outputs ---\n",
      "> NOTE - these may be leftover from a prior run!\n",
      "found 10 existing sensitivity csv files.\n",
      "\n",
      "\n"
     ]
    },
    {
     "output_type": "display_data",
     "data": {
      "image/png": "[encoded data removed]",
      "text/plain": [
       "<Figure size 432x288 with 9 Axes>"
      ]
     },
     "metadata": {
      "needs_background": "light"
     }
    }
   ],
   "metadata": {}
  },
  {
   "cell_type": "markdown",
   "source": [
    "With the experiment designed, we need to setup all the required directories, and make all the required adjustments for each run, such as:\n",
    " - enabling output variables, \n",
    " - adjusting the run mask, \n",
    " - adjusting the config file, and \n",
    " - injecting the parameter values from our `sample_matrix`."
   ],
   "metadata": {}
  },
  {
   "cell_type": "code",
   "execution_count": 11,
   "source": [
    "# makes directories, sets config files, input data, etc for each run\n",
    "driver.setup_multi()"
   ],
   "outputs": [
    {
     "output_type": "stream",
     "name": "stdout",
     "text": [
      "<zip object at 0x7fe4b9d30740>\n",
      "PROC:<ForkProcess name='ForkPoolWorker-2' parent=74626 started daemon>  PROC:<ForkProcess name='ForkPoolWorker-3' parent=74626 started daemon>  PROC:<ForkProcess name='ForkPoolWorker-1' parent=74626 started daemon>  PROC:<ForkProcess name='ForkPoolWorker-6' parent=74626 started daemon>  PROC:<ForkProcess name='ForkPoolWorker-5' parent=74626 started daemon>  PROC:<ForkProcess name='ForkPoolWorker-4' parent=74626 started daemon>  PROC:<ForkProcess name='ForkPoolWorker-7' parent=74626 started daemon>      {'cmax': 422.7614007225966, 'rhq10': 1.8273318150642603, 'micbnup': 0.7812357156842376}  {'cmax': 439.84383125537136, 'rhq10': 1.9908162967123118, 'micbnup': 0.8133115441918314}{'cmax': 468.2212822481292, 'rhq10': 1.898055480973187, 'micbnup': 0.7972658683767135}\n",
      "\n",
      "\n",
      "{'cmax': 487.1707761611757, 'rhq10': 2.1598849800063085, 'micbnup': 0.6940988929049732}[SA:setup] /work/scripts/setup_working_directory.py --input-data-path /data/input-catalog/cru-ts40_ar5_rcp85_ncar-ccsm4_CALM_Toolik_LTER_10x10/ /data/workflows/sensitivity_analysis/sample_000000006[SA:setup] /work/scripts/setup_working_directory.py --input-data-path /data/input-catalog/cru-ts40_ar5_rcp85_ncar-ccsm4_CALM_Toolik_LTER_10x10/ /data/workflows/sensitivity_analysis/sample_000000001 \n",
      "{'cmax': 413.71990069757123, 'rhq10': 2.09783610825507, 'micbnup': 0.7152074895311207}\n",
      "{'cmax': 456.82436876336124, 'rhq10': 2.177047252089439, 'micbnup': 0.7492629534337562}[SA:setup] /work/scripts/setup_working_directory.py --input-data-path /data/input-catalog/cru-ts40_ar5_rcp85_ncar-ccsm4_CALM_Toolik_LTER_10x10/ /data/workflows/sensitivity_analysis/sample_000000000{'cmax': 483.7468664856863, 'rhq10': 1.9309450666512666, 'micbnup': 0.6848176682142171}\n",
      "\n",
      "\n",
      "[SA:setup] /work/scripts/setup_working_directory.py --input-data-path /data/input-catalog/cru-ts40_ar5_rcp85_ncar-ccsm4_CALM_Toolik_LTER_10x10/ /data/workflows/sensitivity_analysis/sample_000000002\n",
      "\n",
      "\n",
      "[SA:setup] /work/scripts/setup_working_directory.py --input-data-path /data/input-catalog/cru-ts40_ar5_rcp85_ncar-ccsm4_CALM_Toolik_LTER_10x10/ /data/workflows/sensitivity_analysis/sample_000000005[SA:setup] /work/scripts/setup_working_directory.py --input-data-path /data/input-catalog/cru-ts40_ar5_rcp85_ncar-ccsm4_CALM_Toolik_LTER_10x10/ /data/workflows/sensitivity_analysis/sample_000000003[SA:setup] /work/scripts/setup_working_directory.py --input-data-path /data/input-catalog/cru-ts40_ar5_rcp85_ncar-ccsm4_CALM_Toolik_LTER_10x10/ /data/workflows/sensitivity_analysis/sample_000000004\n",
      "\n",
      "\n",
      "\n",
      "[SA:setup] /work/scripts/runmask-util.py --reset --yx 0 0 /data/workflows/sensitivity_analysis/sample_000000003/run-mask.nc\n",
      "\n",
      "\n",
      "[SA:setup] /work/scripts/runmask-util.py --reset --yx 0 0 /data/workflows/sensitivity_analysis/sample_000000006/run-mask.nc\n",
      "\n",
      "\n",
      "\n",
      "[SA:setup] /work/scripts/runmask-util.py --reset --yx 0 0 /data/workflows/sensitivity_analysis/sample_000000004/run-mask.nc[SA:setup] /work/scripts/runmask-util.py --reset --yx 0 0 /data/workflows/sensitivity_analysis/sample_000000000/run-mask.nc[SA:setup] /work/scripts/runmask-util.py --reset --yx 0 0 /data/workflows/sensitivity_analysis/sample_000000001/run-mask.nc\n",
      "[SA:setup] /work/scripts/runmask-util.py --reset --yx 0 0 /data/workflows/sensitivity_analysis/sample_000000002/run-mask.nc\n",
      "\n",
      "[SA:setup] /work/scripts/runmask-util.py --reset --yx 0 0 /data/workflows/sensitivity_analysis/sample_000000005/run-mask.nc\n",
      "\n",
      "\n",
      "\n",
      "\n",
      "\n",
      "\n",
      "[SA:setup] /work/scripts/outspec_utils.py /data/workflows/sensitivity_analysis/sample_000000002/config/output_spec.csv --on GPP m p[SA:setup] /work/scripts/outspec_utils.py /data/workflows/sensitivity_analysis/sample_000000004/config/output_spec.csv --on GPP m p[SA:setup] /work/scripts/outspec_utils.py /data/workflows/sensitivity_analysis/sample_000000003/config/output_spec.csv --on GPP m p\n",
      "\n",
      "[SA:setup] /work/scripts/outspec_utils.py /data/workflows/sensitivity_analysis/sample_000000005/config/output_spec.csv --on GPP m p[SA:setup] /work/scripts/outspec_utils.py /data/workflows/sensitivity_analysis/sample_000000006/config/output_spec.csv --on GPP m p\n",
      "\n",
      "\n",
      "\n",
      "\n",
      "[SA:setup] /work/scripts/outspec_utils.py /data/workflows/sensitivity_analysis/sample_000000000/config/output_spec.csv --on GPP m p\n",
      "\n",
      "[SA:setup] /work/scripts/outspec_utils.py /data/workflows/sensitivity_analysis/sample_000000001/config/output_spec.csv --on GPP m p\n",
      "Setting all pixels in runmask to '0' (OFF).Setting all pixels in runmask to '0' (OFF).Setting all pixels in runmask to '0' (OFF).\n",
      "\n",
      "Setting all pixels in runmask to '0' (OFF).\n",
      "\n",
      "Setting all pixels in runmask to '0' (OFF).\n",
      "Setting all pixels in runmask to '0' (OFF).\n",
      "Turning pixel(y,x) (0,0) to '1', (ON).Turning pixel(y,x) (0,0) to '1', (ON).\n",
      "\n",
      "Turning pixel(y,x) (0,0) to '1', (ON).\n",
      "Turning pixel(y,x) (0,0) to '1', (ON).\n",
      "Turning pixel(y,x) (0,0) to '1', (ON).\n",
      "Setting all pixels in runmask to '0' (OFF).\n",
      "Turning pixel(y,x) (0,0) to '1', (ON).\n",
      "Turning pixel(y,x) (0,0) to '1', (ON).\n",
      "\n",
      "\n",
      "\n",
      "\n",
      "[SA:setup] /work/scripts/outspec_utils.py /data/workflows/sensitivity_analysis/sample_000000005/config/output_spec.csv --on VEGC m p[SA:setup] /work/scripts/outspec_utils.py /data/workflows/sensitivity_analysis/sample_000000006/config/output_spec.csv --on VEGC m p[SA:setup] /work/scripts/outspec_utils.py /data/workflows/sensitivity_analysis/sample_000000003/config/output_spec.csv --on VEGC m p\n",
      "[SA:setup] /work/scripts/outspec_utils.py /data/workflows/sensitivity_analysis/sample_000000004/config/output_spec.csv --on VEGC m p\n",
      "\n",
      "\n",
      "\n",
      "\n",
      "[SA:setup] /work/scripts/outspec_utils.py /data/workflows/sensitivity_analysis/sample_000000000/config/output_spec.csv --on VEGC m p\n",
      "[SA:setup] /work/scripts/outspec_utils.py /data/workflows/sensitivity_analysis/sample_000000001/config/output_spec.csv --on VEGC m p[SA:setup] /work/scripts/outspec_utils.py /data/workflows/sensitivity_analysis/sample_000000002/config/output_spec.csv --on VEGC m p\n",
      "\n",
      "\n",
      "                Name                Units       Yearly      Monthly        Daily          PFT Compartments       Layers    Data Type     Description\n",
      "                 GPP            g/m2/time            y            m      invalid            p                   invalid       double     GPP\n",
      "                Name                Units       Yearly      Monthly        Daily          PFT Compartments       Layers    Data Type     Description\n",
      "                 GPP            g/m2/time            y            m      invalid            p                   invalid       double     GPP\n",
      "                Name                Units       Yearly      Monthly        Daily          PFT Compartments       Layers    Data Type     Description\n",
      "                 GPP            g/m2/time            y            m      invalid            p                   invalid       double     GPP\n",
      "                Name                Units       Yearly      Monthly        Daily          PFT Compartments       Layers    Data Type     Description\n",
      "                 GPP            g/m2/time            y            m      invalid            p                   invalid       double     GPP\n",
      "                Name                Units       Yearly      Monthly        Daily          PFT Compartments       Layers    Data Type     Description\n",
      "                 GPP            g/m2/time            y            m      invalid            p                   invalid       double     GPP\n",
      "                Name                Units       Yearly      Monthly        Daily          PFT Compartments       Layers    Data Type     Description\n",
      "                 GPP            g/m2/time            y            m      invalid            p                   invalid       double     GPP\n",
      "                Name                Units       Yearly      Monthly        Daily          PFT Compartments       Layers    Data Type     Description\n",
      "                 GPP            g/m2/time            y            m      invalid            p                   invalid       double     GPP\n",
      "\n",
      "[SA:setup] /work/scripts/outspec_utils.py /data/workflows/sensitivity_analysis/sample_000000006/config/output_spec.csv --on CMTNUM y\n",
      "\n",
      "[SA:setup] /work/scripts/outspec_utils.py /data/workflows/sensitivity_analysis/sample_000000002/config/output_spec.csv --on CMTNUM y\n",
      "\n",
      "\n",
      "\n",
      "[SA:setup] /work/scripts/outspec_utils.py /data/workflows/sensitivity_analysis/sample_000000005/config/output_spec.csv --on CMTNUM y[SA:setup] /work/scripts/outspec_utils.py /data/workflows/sensitivity_analysis/sample_000000001/config/output_spec.csv --on CMTNUM y\n",
      "\n",
      "[SA:setup] /work/scripts/outspec_utils.py /data/workflows/sensitivity_analysis/sample_000000004/config/output_spec.csv --on CMTNUM y\n",
      "\n",
      "[SA:setup] /work/scripts/outspec_utils.py /data/workflows/sensitivity_analysis/sample_000000000/config/output_spec.csv --on CMTNUM y\n",
      "\n",
      "[SA:setup] /work/scripts/outspec_utils.py /data/workflows/sensitivity_analysis/sample_000000003/config/output_spec.csv --on CMTNUM y\n",
      "                Name                Units       Yearly      Monthly        Daily          PFT Compartments       Layers    Data Type     Description\n",
      "                VEGC                 g/m2            y            m      invalid            p                   invalid       double     Total veg. biomass C\n",
      "                Name                Units       Yearly      Monthly        Daily          PFT Compartments       Layers    Data Type     Description\n",
      "                VEGC                 g/m2            y            m      invalid            p                   invalid       double     Total veg. biomass C\n",
      "                Name                Units       Yearly      Monthly        Daily          PFT Compartments       Layers    Data Type     Description\n",
      "                VEGC                 g/m2            y            m      invalid            p                   invalid       double     Total veg. biomass C\n",
      "                Name                Units       Yearly      Monthly        Daily          PFT Compartments       Layers    Data Type     Description\n",
      "                VEGC                 g/m2            y            m      invalid            p                   invalid       double     Total veg. biomass C\n",
      "                Name                Units       Yearly      Monthly        Daily          PFT Compartments       Layers    Data Type     Description\n",
      "                VEGC                 g/m2            y            m      invalid            p                   invalid       double     Total veg. biomass C\n",
      "                Name                Units       Yearly      Monthly        Daily          PFT Compartments       Layers    Data Type     Description\n",
      "                VEGC                 g/m2            y            m      invalid            p                   invalid       double     Total veg. biomass C\n",
      "                Name                Units       Yearly      Monthly        Daily          PFT Compartments       Layers    Data Type     Description\n",
      "                VEGC                 g/m2            y            m      invalid            p                   invalid       double     Total veg. biomass C\n",
      "\n",
      "\n",
      "\n",
      "\n",
      "\n",
      "\n",
      "\n",
      "                Name                Units       Yearly      Monthly        Daily          PFT Compartments       Layers    Data Type     Description\n",
      "              CMTNUM                    m            y      invalid      invalid      invalid      invalid      invalid          int     Community Type Number\n",
      "                Name                Units       Yearly      Monthly        Daily          PFT Compartments       Layers    Data Type     Description\n",
      "              CMTNUM                    m            y      invalid      invalid      invalid      invalid      invalid          int     Community Type Number\n",
      "                Name                Units       Yearly      Monthly        Daily          PFT Compartments       Layers    Data Type     Description\n",
      "              CMTNUM                    m            y      invalid      invalid      invalid      invalid      invalid          int     Community Type Number\n",
      "                Name                Units       Yearly      Monthly        Daily          PFT Compartments       Layers    Data Type     Description\n",
      "              CMTNUM                    m            y      invalid      invalid      invalid      invalid      invalid          int     Community Type Number\n",
      "                Name                Units       Yearly      Monthly        Daily          PFT Compartments       Layers    Data Type     Description\n",
      "              CMTNUM                    m            y      invalid      invalid      invalid      invalid      invalid          int     Community Type Number\n",
      "                Name                Units       Yearly      Monthly        Daily          PFT Compartments       Layers    Data Type     Description\n",
      "              CMTNUM                    m            y      invalid      invalid      invalid      invalid      invalid          int     Community Type Number\n",
      "                Name                Units       Yearly      Monthly        Daily          PFT Compartments       Layers    Data Type     Description\n",
      "              CMTNUM                    m            y      invalid      invalid      invalid      invalid      invalid          int     Community Type Number\n",
      "Using CMT0 as reference...\n",
      "Using CMT0 as reference...\n",
      "Using CMT0 as reference...\n",
      "Using CMT0 as reference...\n",
      "Using CMT0 as reference...\n",
      "Using CMT0 as reference...\n",
      "Using CMT0 as reference...\n",
      "Using CMT0 as reference...\n",
      "Using CMT0 as reference...\n",
      "Using CMT0 as reference...\n",
      "Using CMT0 as reference...\n",
      "Using CMT0 as reference...\n",
      "Using CMT0 as reference...\n",
      "Using CMT0 as reference...\n",
      "Using CMT5 as reference...\n",
      "Using CMT5 as reference...\n",
      "PROC:<ForkProcess name='ForkPoolWorker-7' parent=74626 started daemon>   PROC:<ForkProcess name='ForkPoolWorker-3' parent=74626 started daemon>  {'cmax': 423.19911196376097, 'rhq10': 2.046544952847667, 'micbnup': 0.7714850220156391} \n",
      "{'cmax': 461.9124919723459, 'rhq10': 2.0317923819499972, 'micbnup': 0.764154238802514}\n",
      "[SA:setup] /work/scripts/setup_working_directory.py --input-data-path /data/input-catalog/cru-ts40_ar5_rcp85_ncar-ccsm4_CALM_Toolik_LTER_10x10/ /data/workflows/sensitivity_analysis/sample_000000007[SA:setup] /work/scripts/setup_working_directory.py --input-data-path /data/input-catalog/cru-ts40_ar5_rcp85_ncar-ccsm4_CALM_Toolik_LTER_10x10/ /data/workflows/sensitivity_analysis/sample_000000008\n",
      "Using CMT5 as reference...\n",
      "\n",
      "PROC:<ForkProcess name='ForkPoolWorker-5' parent=74626 started daemon>  Using CMT5 as reference...\n",
      " Using CMT5 as reference...{'cmax': 445.397788713642, 'rhq10': 1.8677472890312596, 'micbnup': 0.7262959097538918}\n",
      "\n",
      "[SA:setup] /work/scripts/setup_working_directory.py --input-data-path /data/input-catalog/cru-ts40_ar5_rcp85_ncar-ccsm4_CALM_Toolik_LTER_10x10/ /data/workflows/sensitivity_analysis/sample_000000009\n",
      "Using CMT5 as reference...\n",
      "Using CMT5 as reference...\n",
      "\n",
      "\n",
      "[SA:setup] /work/scripts/runmask-util.py --reset --yx 0 0 /data/workflows/sensitivity_analysis/sample_000000007/run-mask.nc[SA:setup] /work/scripts/runmask-util.py --reset --yx 0 0 /data/workflows/sensitivity_analysis/sample_000000008/run-mask.nc\n",
      "\n",
      "\n",
      "[SA:setup] /work/scripts/runmask-util.py --reset --yx 0 0 /data/workflows/sensitivity_analysis/sample_000000009/run-mask.nc\n",
      "\n",
      "\n",
      "[SA:setup] /work/scripts/outspec_utils.py /data/workflows/sensitivity_analysis/sample_000000007/config/output_spec.csv --on GPP m p[SA:setup] /work/scripts/outspec_utils.py /data/workflows/sensitivity_analysis/sample_000000008/config/output_spec.csv --on GPP m p\n",
      "\n",
      "\n",
      "[SA:setup] /work/scripts/outspec_utils.py /data/workflows/sensitivity_analysis/sample_000000009/config/output_spec.csv --on GPP m p\n",
      "Setting all pixels in runmask to '0' (OFF).Setting all pixels in runmask to '0' (OFF).\n",
      "\n",
      "Setting all pixels in runmask to '0' (OFF).\n",
      "Turning pixel(y,x) (0,0) to '1', (ON).\n",
      "Turning pixel(y,x) (0,0) to '1', (ON).\n",
      "Turning pixel(y,x) (0,0) to '1', (ON).\n",
      "\n",
      "\n",
      "[SA:setup] /work/scripts/outspec_utils.py /data/workflows/sensitivity_analysis/sample_000000007/config/output_spec.csv --on VEGC m p\n",
      "\n",
      "[SA:setup] /work/scripts/outspec_utils.py /data/workflows/sensitivity_analysis/sample_000000009/config/output_spec.csv --on VEGC m p[SA:setup] /work/scripts/outspec_utils.py /data/workflows/sensitivity_analysis/sample_000000008/config/output_spec.csv --on VEGC m p\n",
      "\n",
      "                Name                Units       Yearly      Monthly        Daily          PFT Compartments       Layers    Data Type     Description\n",
      "                 GPP            g/m2/time            y            m      invalid            p                   invalid       double     GPP\n",
      "                Name                Units       Yearly      Monthly        Daily          PFT Compartments       Layers    Data Type     Description\n",
      "                 GPP            g/m2/time            y            m      invalid            p                   invalid       double     GPP\n",
      "                Name                Units       Yearly      Monthly        Daily          PFT Compartments       Layers    Data Type     Description\n",
      "                 GPP            g/m2/time            y            m      invalid            p                   invalid       double     GPP\n",
      "                Name                Units       Yearly      Monthly        Daily          PFT Compartments       Layers    Data Type     Description\n",
      "                VEGC                 g/m2            y            m      invalid            p                   invalid       double     Total veg. biomass C\n",
      "                Name                Units       Yearly      Monthly        Daily          PFT Compartments       Layers    Data Type     Description\n",
      "                VEGC                 g/m2            y            m      invalid            p                   invalid       double     Total veg. biomass C\n",
      "                Name                Units       Yearly      Monthly        Daily          PFT Compartments       Layers    Data Type     Description\n",
      "                VEGC                 g/m2            y            m      invalid            p                   invalid       double     Total veg. biomass C\n",
      "\n",
      "\n",
      "[SA:setup] /work/scripts/outspec_utils.py /data/workflows/sensitivity_analysis/sample_000000009/config/output_spec.csv --on CMTNUM y[SA:setup] /work/scripts/outspec_utils.py /data/workflows/sensitivity_analysis/sample_000000007/config/output_spec.csv --on CMTNUM y\n",
      "\n",
      "\n",
      "[SA:setup] /work/scripts/outspec_utils.py /data/workflows/sensitivity_analysis/sample_000000008/config/output_spec.csv --on CMTNUM y\n",
      "\n",
      "\n",
      "\n",
      "                Name                Units       Yearly      Monthly        Daily          PFT Compartments       Layers    Data Type     Description                Name                Units       Yearly      Monthly        Daily          PFT Compartments       Layers    Data Type     Description\n",
      "              CMTNUM                    m            y      invalid      invalid      invalid      invalid      invalid          int     Community Type Number\n",
      "                Name                Units       Yearly      Monthly        Daily          PFT Compartments       Layers    Data Type     Description\n",
      "              CMTNUM                    m            y      invalid      invalid      invalid      invalid      invalid          int     Community Type Number\n",
      "\n",
      "              CMTNUM                    m            y      invalid      invalid      invalid      invalid      invalid          int     Community Type Number\n",
      "Using CMT0 as reference...\n",
      "Using CMT0 as reference...\n",
      "Using CMT0 as reference...\n",
      "Using CMT0 as reference...\n",
      "Using CMT0 as reference...\n",
      "Using CMT0 as reference...\n",
      "Using CMT5 as reference...\n",
      "Using CMT5 as reference...\n",
      "Using CMT5 as reference...\n",
      "[None, None, None, None, None, None, None, None, None, None]\n"
     ]
    }
   ],
   "metadata": {}
  },
  {
   "cell_type": "markdown",
   "source": [
    "And once the setup is complete, now we can carry out the runs. "
   ],
   "metadata": {}
  },
  {
   "cell_type": "code",
   "execution_count": 12,
   "source": [
    "# carry out the run and do initial output collection\n",
    "driver.run_all_samples()"
   ],
   "outputs": [
    {
     "output_type": "stream",
     "name": "stdout",
     "text": [
      "[SA:run] /work/dvmdostem -p 5 -e 5 -s 5 -t 5 -n 5 -l err --force-cmt 5 --ctrl-file /data/workflows/sensitivity_analysis/sample_000000004/config/config.js[SA:run] /work/dvmdostem -p 5 -e 5 -s 5 -t 5 -n 5 -l err --force-cmt 5 --ctrl-file /data/workflows/sensitivity_analysis/sample_000000003/config/config.js[SA:run] /work/dvmdostem -p 5 -e 5 -s 5 -t 5 -n 5 -l err --force-cmt 5 --ctrl-file /data/workflows/sensitivity_analysis/sample_000000006/config/config.js[SA:run] /work/dvmdostem -p 5 -e 5 -s 5 -t 5 -n 5 -l err --force-cmt 5 --ctrl-file /data/workflows/sensitivity_analysis/sample_000000002/config/config.js\n",
      "[SA:run] /work/dvmdostem -p 5 -e 5 -s 5 -t 5 -n 5 -l err --force-cmt 5 --ctrl-file /data/workflows/sensitivity_analysis/sample_000000005/config/config.js\n",
      "[SA:run] /work/dvmdostem -p 5 -e 5 -s 5 -t 5 -n 5 -l err --force-cmt 5 --ctrl-file /data/workflows/sensitivity_analysis/sample_000000001/config/config.js[SA:run] /work/dvmdostem -p 5 -e 5 -s 5 -t 5 -n 5 -l err --force-cmt 5 --ctrl-file /data/workflows/sensitivity_analysis/sample_000000000/config/config.js\n",
      "\n",
      "\n",
      "\n",
      "\n",
      "\n",
      "[SA:run] /work/dvmdostem -p 5 -e 5 -s 5 -t 5 -n 5 -l err --force-cmt 5 --ctrl-file /data/workflows/sensitivity_analysis/sample_000000007/config/config.js\n",
      "\n",
      "[SA:run] /work/dvmdostem -p 5 -e 5 -s 5 -t 5 -n 5 -l err --force-cmt 5 --ctrl-file /data/workflows/sensitivity_analysis/sample_000000008/config/config.js\n",
      "\n",
      "[SA:run] /work/dvmdostem -p 5 -e 5 -s 5 -t 5 -n 5 -l err --force-cmt 5 --ctrl-file /data/workflows/sensitivity_analysis/sample_000000009/config/config.js\n",
      "\n",
      "\n",
      "\n",
      "\n",
      "\n",
      "\n",
      "\n",
      "\n"
     ]
    }
   ],
   "metadata": {}
  },
  {
   "cell_type": "markdown",
   "source": [
    "## Process, analyze, and plot data after runs"
   ],
   "metadata": {}
  },
  {
   "cell_type": "code",
   "execution_count": 13,
   "source": [
    "driver.extract_data_for_sensitivity_analysis()\n",
    "\n",
    "driver.first_steps_sensitivity_analysis()"
   ],
   "outputs": [
    {
     "output_type": "stream",
     "name": "stdout",
     "text": [
      "             p_cmax   p_rhq10  p_micbnup     o_GPP    o_VEGC\n",
      "p_cmax     1.000000  0.140450  -0.391209  0.999887  0.999954\n",
      "p_rhq10    0.140450  1.000000  -0.299762  0.125639  0.134045\n",
      "p_micbnup -0.391209 -0.299762   1.000000 -0.386838 -0.385610\n",
      "o_GPP      0.999887  0.125639  -0.386838  1.000000  0.999947\n",
      "o_VEGC     0.999954  0.134045  -0.385610  0.999947  1.000000\n",
      "Make some cool plot here....\n"
     ]
    }
   ],
   "metadata": {}
  },
  {
   "cell_type": "code",
   "execution_count": 14,
   "source": [
    "driver.make_cool_plot_2()"
   ],
   "outputs": [
    {
     "output_type": "display_data",
     "data": {
      "image/png": "[encoded data removed]",
      "text/plain": [
       "<Figure size 432x288 with 2 Axes>"
      ]
     },
     "metadata": {
      "needs_background": "light"
     }
    }
   ],
   "metadata": {}
  },
  {
   "cell_type": "code",
   "execution_count": null,
   "source": [],
   "outputs": [],
   "metadata": {}
  },
  {
   "cell_type": "code",
   "execution_count": null,
   "source": [
    "\n",
    "\n"
   ],
   "outputs": [],
   "metadata": {}
  },
  {
   "cell_type": "code",
   "execution_count": null,
   "source": [],
   "outputs": [],
   "metadata": {}
  },
  {
   "cell_type": "code",
   "execution_count": null,
   "source": [],
   "outputs": [],
   "metadata": {}
  },
  {
   "cell_type": "code",
   "execution_count": null,
   "source": [],
   "outputs": [],
   "metadata": {}
  },
  {
   "cell_type": "markdown",
   "source": [],
   "metadata": {}
  },
  {
   "cell_type": "code",
   "execution_count": null,
   "source": [],
   "outputs": [],
   "metadata": {}
  },
  {
   "cell_type": "code",
   "execution_count": null,
   "source": [],
   "outputs": [],
   "metadata": {}
  },
  {
   "cell_type": "markdown",
   "source": [
    "Below here is some old code, leaving here for reference. WIll remove in another commit or so.\n",
    "\n",
    "Elchin: \n",
    "\n",
    "1. `get_CMT_params()` function is now implemented in `SensitivityDriver::design_experiment()`. \n",
    "2. `create_a_sample_matrix()` function is now implemented directly in the Sensitivity module. If you followed the code above, you will see how to use it. It needs some comments as found myself unable to describe the maths.\n",
    "\n",
    "I used the \"design_experiment\" for the function name after looking into the `pyDOE` package as an alternate way to do the LHC sampling. See here: https://pythonhosted.org/pyDOE/\n"
   ],
   "metadata": {}
  },
  {
   "cell_type": "code",
   "execution_count": null,
   "source": [
    "def get_CMT_params(cmtnum=4,pftnum=3,perc=0.1):\n",
    "    \n",
    "    from collections import defaultdict\n",
    "    '''\n",
    "    This function gets the cmtnum and pftnum parameters from my-path-to-default/cmt_calparbgc.txt\n",
    "    and sets the parameter specification. The default boundary setup is perc=+-10% from the original value\n",
    "\n",
    "    Inputs:\n",
    "        cmtnum : community type number (default=4)\n",
    "        pftnum : plant functional type number (default=3)\n",
    "        perc :   percent difference from the origina value (default=10%)\n",
    "\n",
    "    Outputs:\n",
    "        param_specs : paramter specifications dictionary\n",
    "\n",
    "    Example:\n",
    "       param_specs=get_CMT_params()\n",
    "       for key in list(param_specs.keys()):\n",
    "          print(key,':',param_specs[key])\n",
    "\n",
    "    '''\n",
    "    # Tobey consider changing param_util.py to more appropriate calling of a function from the .py file\n",
    "    # change driver.work_dir to self.work_dir\n",
    "    data = !param_util.py --dump-block-to-json /work/parameters/cmt_calparbgc.txt {cmtnum}\n",
    "    #data = run -i param_util.py --dump-block-to-json {self.work_dir}/default_parameters/cmt_calparbgc.txt {cmtnum}\n",
    "    CMT_data = json.loads(data[0])\n",
    "\n",
    "    #choose parameters correspoding to a given pfnum\n",
    "    d=pd.Series(CMT_data['pft'+str(pftnum)])\n",
    "    param_specs = defaultdict()\n",
    "    print('Getting parameters for PFT:',d['name'])\n",
    "    for key, val in d.items():\n",
    "        if key=='name':\n",
    "            continue\n",
    "        param_specs[key]={'val':val, 'bnds':[val-perc*val,val+perc*val], \n",
    "                          'cmtnum':cmtnum, 'pftnum':pftnum, 'opt':False }\n",
    "\n",
    "    return param_specs"
   ],
   "outputs": [],
   "metadata": {}
  },
  {
   "cell_type": "code",
   "execution_count": null,
   "source": [
    "param_specs=get_CMT_params(pftnum=1)\n",
    "for key in list(param_specs.keys()):\n",
    "   print(key,':',param_specs[key])"
   ],
   "outputs": [],
   "metadata": {}
  },
  {
   "cell_type": "markdown",
   "source": [
    "We want to opt in vcmax and ncmax, change the bounds, and create the sample matrix."
   ],
   "metadata": {}
  },
  {
   "cell_type": "code",
   "execution_count": null,
   "source": [
    "print('Current cmax:',param_specs['cmax'])\n",
    "param_specs['cmax']['bnds'][0]=param_specs['cmax']['val']-50\n",
    "param_specs['cmax']['bnds'][1]=param_specs['cmax']['val']+50\n",
    "param_specs['cmax']['opt']=True\n",
    "print('Updated cmax:',param_specs['cmax'])\n",
    "\n",
    "print('Current nmax:',param_specs['nmax'])\n",
    "param_specs['nmax']['bnds'][0]=param_specs['nmax']['val']-3\n",
    "param_specs['nmax']['bnds'][1]=param_specs['nmax']['val']+3\n",
    "param_specs['nmax']['opt']=True\n",
    "print('Updated nmax:',param_specs['nmax'])"
   ],
   "outputs": [],
   "metadata": {}
  },
  {
   "cell_type": "code",
   "execution_count": null,
   "source": [
    "def create_a_sample_matrix(run_name, param_specs, method='uniform', sample_N=5):\n",
    "    # Tobey: we need to add lhsmdu in the docker file\n",
    "    import lhsmdu    #generate Latin Hypercube samples\n",
    "    '''\n",
    "    This function creates a sampling matrix and saves it into the (var_'run_name'.csv) file\n",
    "    Inputs:\n",
    "        run_name: for a better tracking of the tests \n",
    "        param_specs: 'lhs', 'uniform' \n",
    "        sample_N: sample size\n",
    "        param_specs: parameter specification dictionary\n",
    "    Outputs:\n",
    "        sample_matrix : the ( sample_N,len(sens_params) ) sample matrix \n",
    "    '''\n",
    "    # 1. Create the sens_params dictionary that includes only opt-in values\n",
    "    sens_params={}\n",
    "    for key in list(param_specs.keys()):\n",
    "        if param_specs[key]['opt']==True:\n",
    "            sens_params[key]=param_specs[key]\n",
    "\n",
    "    # 2. Select low boundaries from the sens_params dict. and calculate the difference\n",
    "    val_low_bnd = [sens_params[key]['bnds'][0] for key in list(sens_params.keys())]\n",
    "    val_diff = [sens_params[key]['bnds'][1]-sens_params[key]['bnds'][0] for key in list(sens_params.keys())]\n",
    "    \n",
    "    # 3. Choose sampling method: lhs or uniform\n",
    "    if method == 'lhs':\n",
    "        # Latin Hypercube Sampling, each column indicates a sample point\n",
    "        # This is like an initialization, almost return the same results\n",
    "\n",
    "        #Need to add lhsmdu in the docker file\n",
    "        l = lhsmdu.sample(len(sens_params),sample_N)    #type:matrix\n",
    "        # Latin Hypercube Sampling of factor(influent or parameter or ic)\n",
    "        l = lhsmdu.resample().T        # Latin Hypercube Sampling from uniform, after transpose, each row indicates a sample point\n",
    "        mat_diff = np.diag(val_diff)\n",
    "        sample_matrix = l*mat_diff + val_low_bnd      # Scaling to Latin Hypercube Sampling of influent\n",
    "                \n",
    "    elif method == 'uniform':\n",
    "        ## Uniform Sampling ##\n",
    "        l = np.random.uniform(size=(sample_N, len(sens_params)))\n",
    "        sample_matrix = l*val_diff + val_low_bnd\n",
    "\n",
    "    np.savetxt('var_%s.csv'%(run_name),sample_matrix,delimiter=',',fmt='%13.5f')\n",
    "    print ('Saves a sampling matrix [sample_size,array_size] into var_%s.csv'%(run_name))\n",
    "    print ('sample_size,array_size: ',sample_matrix.shape)\n",
    "    print ('Each column of the matrix corresponds to a variable perturbed 100 times around its original value ')\n",
    "    print ('var_%s.csv'%(run_name), 'SAVED!')\n",
    "    \n",
    "    return sample_matrix"
   ],
   "outputs": [],
   "metadata": {}
  },
  {
   "cell_type": "code",
   "execution_count": null,
   "source": [
    "create_a_sample_matrix('test_run001',param_specs)"
   ],
   "outputs": [],
   "metadata": {}
  },
  {
   "cell_type": "code",
   "execution_count": null,
   "source": [],
   "outputs": [],
   "metadata": {}
  },
  {
   "cell_type": "code",
   "execution_count": null,
   "source": [],
   "outputs": [],
   "metadata": {}
  },
  {
   "cell_type": "code",
   "execution_count": null,
   "source": [],
   "outputs": [],
   "metadata": {}
  },
  {
   "cell_type": "code",
   "execution_count": null,
   "source": [],
   "outputs": [],
   "metadata": {}
  },
  {
   "cell_type": "code",
   "execution_count": null,
   "source": [],
   "outputs": [],
   "metadata": {}
  },
  {
   "cell_type": "code",
   "execution_count": null,
   "source": [],
   "outputs": [],
   "metadata": {}
  },
  {
   "cell_type": "code",
   "execution_count": null,
   "source": [],
   "outputs": [],
   "metadata": {}
  },
  {
   "cell_type": "code",
   "execution_count": null,
   "source": [],
   "outputs": [],
   "metadata": {}
  },
  {
   "cell_type": "code",
   "execution_count": null,
   "source": [],
   "outputs": [],
   "metadata": {}
  },
  {
   "cell_type": "code",
   "execution_count": null,
   "source": [
    "\n"
   ],
   "outputs": [],
   "metadata": {}
  },
  {
   "cell_type": "code",
   "execution_count": null,
   "source": [],
   "outputs": [],
   "metadata": {}
  },
  {
   "cell_type": "code",
   "execution_count": null,
   "source": [],
   "outputs": [],
   "metadata": {}
  },
  {
   "cell_type": "code",
   "execution_count": null,
   "source": [],
   "outputs": [],
   "metadata": {}
  },
  {
   "cell_type": "code",
   "execution_count": null,
   "source": [],
   "outputs": [],
   "metadata": {}
  },
  {
   "cell_type": "code",
   "execution_count": null,
   "source": [],
   "outputs": [],
   "metadata": {}
  },
  {
   "cell_type": "code",
   "execution_count": null,
   "source": [
    "\n",
    "\n"
   ],
   "outputs": [],
   "metadata": {}
  },
  {
   "cell_type": "code",
   "execution_count": null,
   "source": [
    "\n"
   ],
   "outputs": [],
   "metadata": {}
  },
  {
   "cell_type": "code",
   "execution_count": null,
   "source": [],
   "outputs": [],
   "metadata": {}
  },
  {
   "cell_type": "code",
   "execution_count": null,
   "source": [],
   "outputs": [],
   "metadata": {}
  },
  {
   "cell_type": "code",
   "execution_count": null,
   "source": [],
   "outputs": [],
   "metadata": {}
  },
  {
   "cell_type": "code",
   "execution_count": null,
   "source": [],
   "outputs": [],
   "metadata": {}
  },
  {
   "cell_type": "code",
   "execution_count": null,
   "source": [],
   "outputs": [],
   "metadata": {}
  },
  {
   "cell_type": "code",
   "execution_count": null,
   "source": [],
   "outputs": [],
   "metadata": {}
  },
  {
   "cell_type": "code",
   "execution_count": null,
   "source": [],
   "outputs": [],
   "metadata": {}
  },
  {
   "cell_type": "code",
   "execution_count": null,
   "source": [],
   "outputs": [],
   "metadata": {}
  },
  {
   "cell_type": "code",
   "execution_count": null,
   "source": [],
   "outputs": [],
   "metadata": {}
  },
  {
   "cell_type": "code",
   "execution_count": null,
   "source": [
    "\n",
    "\n"
   ],
   "outputs": [],
   "metadata": {}
  },
  {
   "cell_type": "code",
   "execution_count": null,
   "source": [],
   "outputs": [],
   "metadata": {}
  },
  {
   "cell_type": "code",
   "execution_count": null,
   "source": [],
   "outputs": [],
   "metadata": {}
  },
  {
   "cell_type": "code",
   "execution_count": null,
   "source": [],
   "outputs": [],
   "metadata": {}
  },
  {
   "cell_type": "code",
   "execution_count": null,
   "source": [],
   "outputs": [],
   "metadata": {}
  },
  {
   "cell_type": "code",
   "execution_count": null,
   "source": [],
   "outputs": [],
   "metadata": {}
  },
  {
   "cell_type": "code",
   "execution_count": null,
   "source": [],
   "outputs": [],
   "metadata": {}
  },
  {
   "cell_type": "code",
   "execution_count": null,
   "source": [],
   "outputs": [],
   "metadata": {}
  },
  {
   "cell_type": "code",
   "execution_count": null,
   "source": [],
   "outputs": [],
   "metadata": {}
  },
  {
   "cell_type": "code",
   "execution_count": null,
   "source": [],
   "outputs": [],
   "metadata": {}
  },
  {
   "cell_type": "code",
   "execution_count": null,
   "source": [],
   "outputs": [],
   "metadata": {}
  },
  {
   "cell_type": "code",
   "execution_count": null,
   "source": [],
   "outputs": [],
   "metadata": {}
  },
  {
   "cell_type": "code",
   "execution_count": null,
   "source": [],
   "outputs": [],
   "metadata": {}
  },
  {
   "cell_type": "code",
   "execution_count": null,
   "source": [],
   "outputs": [],
   "metadata": {}
  },
  {
   "cell_type": "code",
   "execution_count": null,
   "source": [],
   "outputs": [],
   "metadata": {}
  },
  {
   "cell_type": "code",
   "execution_count": null,
   "source": [],
   "outputs": [],
   "metadata": {}
  },
  {
   "cell_type": "code",
   "execution_count": null,
   "source": [],
   "outputs": [],
   "metadata": {}
  },
  {
   "cell_type": "code",
   "execution_count": null,
   "source": [],
   "outputs": [],
   "metadata": {}
  },
  {
   "cell_type": "code",
   "execution_count": null,
   "source": [],
   "outputs": [],
   "metadata": {}
  },
  {
   "cell_type": "code",
   "execution_count": null,
   "source": [],
   "outputs": [],
   "metadata": {}
  },
  {
   "cell_type": "code",
   "execution_count": null,
   "source": [],
   "outputs": [],
   "metadata": {}
  }
 ],
 "metadata": {
  "interpreter": {
   "hash": "e45850e46bd861f75a4eaba2a58cae1683e2687f2e0b9cfb1aec3b4fa023c568"
  },
  "kernelspec": {
   "name": "python3",
   "display_name": "Python 3.8.6 64-bit ('3.8.6': pyenv)"
  },
  "language_info": {
   "codemirror_mode": {
    "name": "ipython",
    "version": 3
   },
   "file_extension": ".py",
   "mimetype": "text/x-python",
   "name": "python",
   "nbconvert_exporter": "python",
   "pygments_lexer": "ipython3",
   "version": "3.8.6"
  }
 },
 "nbformat": 4,
 "nbformat_minor": 5
}