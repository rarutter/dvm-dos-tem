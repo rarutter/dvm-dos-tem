{
 "cells": [
  {
   "cell_type": "markdown",
   "metadata": {},
   "source": [
    "## Overview\n",
    "This notebook gives a look at the \"closure\" of the C cycle for `dvmdostem`.\n",
    "\n",
    "The idea is to run the model for a short period of time and then check the model-outputs to make sure that the ecosystem-wide C stock's change from time step to time-step (\"delta C\") is the same as the net ecosystem C flux.\n",
    "\n",
    "## Code\n",
    "First, import a bunch of libraries:"
   ]
  },
  {
   "cell_type": "code",
   "execution_count": null,
   "metadata": {},
   "outputs": [],
   "source": [
    "import matplotlib.pyplot as plt\n",
    "import numpy as np\n",
    "import textwrap"
   ]
  },
  {
   "cell_type": "code",
   "execution_count": null,
   "metadata": {},
   "outputs": [],
   "source": [
    "%load_ext autoreload\n",
    "%autoreload 2"
   ]
  },
  {
   "cell_type": "markdown",
   "metadata": {},
   "source": [
    "Next, setup some functions that can compile the numbers we are interested in from a json object. The json object will come from loading the json files that `dvmdostem` produces when running with the `--cal-mode` flag."
   ]
  },
  {
   "cell_type": "code",
   "execution_count": null,
   "metadata": {},
   "outputs": [],
   "source": [
    "from . import diagnostics"
   ]
  },
  {
   "cell_type": "code",
   "execution_count": null,
   "metadata": {},
   "outputs": [],
   "source": [
    "#print diagnostics.compile_table_by_year('C_veg_balance', fileslice='-15::')"
   ]
  },
  {
   "cell_type": "code",
   "execution_count": null,
   "metadata": {},
   "outputs": [],
   "source": [
    "tl = sorted([\n",
    "         'N_soil_balance',\n",
    "#         'N_veg_balance',\n",
    "         'C_soil_balance',\n",
    "#         'C_veg_balance',\n",
    "#         'C_veg_vascular_balance',\n",
    "#         'C_veg_nonvascular_balance',\n",
    "#         'report_soil_C'\n",
    "])\n",
    "\n",
    "diagnostics.run_tests(tl, p2c=True, fileslice=':100:')"
   ]
  },
  {
   "cell_type": "code",
   "execution_count": null,
   "metadata": {},
   "outputs": [],
   "source": [
    "diagnostics.run_tests(['N_veg_balance'],p2c=True)"
   ]
  },
  {
   "cell_type": "code",
   "execution_count": null,
   "metadata": {},
   "outputs": [],
   "source": []
  },
  {
   "cell_type": "code",
   "execution_count": null,
   "metadata": {},
   "outputs": [],
   "source": [
    "#!cat ../config/calibration_directives.txt\n",
    "#!cd .. && ./dvmdostem -l fatal -c -p 10\n",
    "\n",
    "diagnostics.run_tests(['C_veg_balance',], p2c=True)"
   ]
  },
  {
   "cell_type": "code",
   "execution_count": null,
   "metadata": {},
   "outputs": [],
   "source": [
    "diagnostics.plot_tests([\n",
    "#'N_soil_balance',\n",
    "#        'N_veg_balance',\n",
    "      #  'C_soil_balance',\n",
    "      #  'C_veg_balance',\n",
    "#        'C_veg_vascular_balance',\n",
    "#        'C_veg_nonvascular_balance',\n",
    "        ])"
   ]
  },
  {
   "cell_type": "code",
   "execution_count": null,
   "metadata": {},
   "outputs": [],
   "source": []
  },
  {
   "cell_type": "code",
   "execution_count": null,
   "metadata": {},
   "outputs": [],
   "source": []
  },
  {
   "cell_type": "code",
   "execution_count": null,
   "metadata": {},
   "outputs": [],
   "source": []
  },
  {
   "cell_type": "code",
   "execution_count": null,
   "metadata": {},
   "outputs": [],
   "source": []
  },
  {
   "cell_type": "code",
   "execution_count": null,
   "metadata": {},
   "outputs": [],
   "source": []
  },
  {
   "cell_type": "code",
   "execution_count": null,
   "metadata": {},
   "outputs": [],
   "source": []
  },
  {
   "cell_type": "markdown",
   "metadata": {},
   "source": [
    "Now we have all the tools in place to perform a model run and look at a quick summary of the C cycle.\n",
    "\n",
    "For this experiment, we want to compare how things look with different modules on or off. We can control the module state using the \"calibration_directives.txt\" file. So our process will look like this:\n",
    "\n",
    "- Create calibration_directives file with module settings.\n",
    "- Run the model (controlled by the directives file.\n",
    "- Anylyze the json files to get the C cycle report.\n",
    "- Compare the reports from model runs with different module on/off states.\n",
    "\n",
    "First we make a convenience wrapper for writing a calibration directives file, then run 3 different tests."
   ]
  },
  {
   "cell_type": "code",
   "execution_count": null,
   "metadata": {},
   "outputs": [],
   "source": [
    "def write_cal_directives(s):\n",
    "    with open (\"../config/calibration_directives.txt\", 'w') as f:\n",
    "        f.write(s)"
   ]
  },
  {
   "cell_type": "code",
   "execution_count": null,
   "metadata": {},
   "outputs": [],
   "source": [
    "write_cal_directives(textwrap.dedent('''\\\n",
    "    {\n",
    "      \"calibration_autorun_settings\": {\n",
    "        \"pwup\": false,\n",
    "        \"quitat\": 15\n",
    "      }\n",
    "    }\n",
    "'''))\n",
    "!cd ../ && ./dvmdostem --log-level fatal --cal-mode --pre-run-yrs 10\n",
    "run_tests(['C_veg_balance', 'C_soil_balance','report_soil_C'], w2f=\"nfeedON-dslON/C_report.txt\")\n",
    "#!cd ../ && ./scripts/bulk-plot.sh --numpfts 7 --parallel --outdir \"scripts/all-modules-on\" --tag test0"
   ]
  },
  {
   "cell_type": "code",
   "execution_count": null,
   "metadata": {},
   "outputs": [],
   "source": []
  },
  {
   "cell_type": "code",
   "execution_count": null,
   "metadata": {},
   "outputs": [],
   "source": [
    "write_cal_directives(textwrap.dedent('''\\\n",
    "    {\n",
    "      \"calibration_autorun_settings\": {\n",
    "        \"0\": [\"nfeed off\", \"dsl off\"],\n",
    "        \"pwup\": false,\n",
    "        \"quitat\": 15\n",
    "      }\n",
    "    }\n",
    "'''))\n",
    "!cat ../config/calibration_directives.txt\n",
    "!cd ../ && ./dvmdostem --log-level fatal --cal-mode --pre-run-yrs 10\n",
    "run_tests(['C_veg_balance', 'C_soil_balance','report_soil_C'], w2f=\"nfeedOFF-dslOFF/C_report.txt\")\n",
    "#!cd ../ && ./scripts/bulk-plot.sh --numpfts 7 --parallel --outdir scripts/nfeedoff-dsloff --tag test1"
   ]
  },
  {
   "cell_type": "code",
   "execution_count": null,
   "metadata": {},
   "outputs": [],
   "source": []
  },
  {
   "cell_type": "code",
   "execution_count": null,
   "metadata": {},
   "outputs": [],
   "source": [
    "write_cal_directives(textwrap.dedent('''\\\n",
    "    {\n",
    "      \"calibration_autorun_settings\": {\n",
    "        \"0\": [\"nfeed on\", \"dsl off\"],\n",
    "        \"pwup\": false,\n",
    "        \"quitat\": 15\n",
    "      }\n",
    "    }\n",
    "'''))\n",
    "!cat ../config/calibration_directives.txt\n",
    "!cd ../ && ./dvmdostem --log-level fatal --cal-mode --pre-run-yrs 10\n",
    "run_tests(['C_veg_balance', 'C_soil_balance','report_soil_C'], w2f=\"nfeedON-dslOFF/C_report.txt\")\n",
    "#!cd ../ && ./scripts/bulk-plot.sh --numpfts 7 --parallel --outdir scripts/nfeedON-dsloff --tag test1"
   ]
  },
  {
   "cell_type": "code",
   "execution_count": null,
   "metadata": {},
   "outputs": [],
   "source": [
    "write_cal_directives(textwrap.dedent('''\\\n",
    "    {\n",
    "      \"calibration_autorun_settings\": {\n",
    "        \"0\": [\"nfeed off\", \"dsl on\"],\n",
    "        \"pwup\": false,\n",
    "        \"quitat\": 15\n",
    "      }\n",
    "    }\n",
    "'''))\n",
    "!cd ../ && ./dvmdostem --log-level fatal --cal-mode --pre-run-yrs 10\n",
    "run_tests(['C_veg_balance', 'C_soil_balance','report_soil_C'], w2f=\"nfeedOFF-dslON/report.txt\")\n",
    "#!cd ../ && ./scripts/bulk-plot.sh --numpfts 7 --parallel --outdir scripts/nfeedoff-dslON --tag test1"
   ]
  },
  {
   "cell_type": "code",
   "execution_count": null,
   "metadata": {},
   "outputs": [],
   "source": []
  },
  {
   "cell_type": "code",
   "execution_count": null,
   "metadata": {},
   "outputs": [],
   "source": []
  },
  {
   "cell_type": "code",
   "execution_count": null,
   "metadata": {},
   "outputs": [],
   "source": []
  },
  {
   "cell_type": "code",
   "execution_count": null,
   "metadata": {},
   "outputs": [],
   "source": []
  },
  {
   "cell_type": "code",
   "execution_count": null,
   "metadata": {},
   "outputs": [],
   "source": []
  },
  {
   "cell_type": "code",
   "execution_count": null,
   "metadata": {},
   "outputs": [],
   "source": []
  },
  {
   "cell_type": "code",
   "execution_count": null,
   "metadata": {},
   "outputs": [],
   "source": []
  },
  {
   "cell_type": "code",
   "execution_count": null,
   "metadata": {},
   "outputs": [],
   "source": []
  },
  {
   "cell_type": "code",
   "execution_count": null,
   "metadata": {},
   "outputs": [],
   "source": []
  }
 ],
 "metadata": {
  "kernelspec": {
   "display_name": "Python 3",
   "language": "python",
   "name": "python3"
  },
  "language_info": {
   "codemirror_mode": {
    "name": "ipython",
    "version": 3
   },
   "file_extension": ".py",
   "mimetype": "text/x-python",
   "name": "python",
   "nbconvert_exporter": "python",
   "pygments_lexer": "ipython3",
   "version": "3.7.0"
  }
 },
 "nbformat": 4,
 "nbformat_minor": 1
}
